{
 "cells": [
  {
   "cell_type": "markdown",
   "metadata": {
    "tags": []
   },
   "source": [
    "# Poject: Sequential Pattern Mining with Web log"
   ]
  },
  {
   "cell_type": "markdown",
   "metadata": {},
   "source": [
    "In this project we will use spark and the prefix algorithm to mine a web log from an online store.\n"
   ]
  },
  {
   "cell_type": "markdown",
   "metadata": {},
   "source": [
    "Author: Kenny Zhang\n",
    "\n",
    "E-mail: tzhang808@gmail.com\n",
    "\n",
    "Date: Apr 3, 2023"
   ]
  },
  {
   "cell_type": "markdown",
   "metadata": {
    "jp-MarkdownHeadingCollapsed": true,
    "tags": []
   },
   "source": [
    "## About Data and Cleaning\n",
    "\n",
    "**Dataset**: https://dataverse.harvard.edu/dataset.xhtml?persistentId=doi:10.7910/DVN/3QBYB5"
   ]
  },
  {
   "cell_type": "markdown",
   "metadata": {},
   "source": [
    "- The above link serves as explaination of the dataset. You can download data from https://cis331.guihang.org/data/access.log.zip\n",
    "- **Download and unzip** the file `Access.log.zip` ; Move the file `access.log` to the directory that you map into docker instance:\n",
    "\n",
    "Say, I move my file into my home: `/Users/zhengqu` ; then in Mac terminal/Windows command prompt, I \"cd\" to my home dir (just type \"cd\" and enter, it will do).\n",
    "\n",
    "```bash\n",
    "pwd\n",
    "```\n",
    "\n",
    "<font size=-1 color=grey>/Users/zhengqu</font>\n",
    "\n",
    "Let's assume I put `access.log` in my home dir as `/Users/zhengqu/access.log` and my spark docker container/instance was created by the following command, as I demonstrated in the video after the spark lab lecture:\n",
    "\n",
    "```bash\n",
    "docker run -p 10000:8888 -d -P --name notebook -it  -v \"$PWD:/home/jovyan/mydir\" jupyter/all-spark-notebook\n",
    "```\n",
    "\n",
    "whereby `\"$PWD\"` is actually `/Users/zhengqu` in my case, and it is mapped into docker container `notebook` as `/home/jovyan/mydir`. So anything I put in this folder `\"/Users/zhengqu\"` on my host laptop is available in my spark docker container `notebook` in this folder: `/home/jovyan/mydir`. \n",
    "\n"
   ]
  },
  {
   "cell_type": "markdown",
   "metadata": {},
   "source": [
    "### Access the data file from docker container\n",
    "\n",
    "- First you start the spark docker contaner/instance (you don't have to if your docker container is not stopped since last running) \n",
    "\n",
    "Use this command to show docker container running status:\n",
    "\n",
    "```bash\n",
    "docker ps -a\n",
    "```\n",
    "\n",
    "- To start /start container:\n",
    "\n",
    "```bash\n",
    "docker start notebook\n",
    "```\n",
    "\n",
    "- Next you connect your container with bash:\n",
    "\n",
    "```bash\n",
    "# connect to docker container with bash\n",
    "docker exec -it notebook /bin/bash\n",
    "```\n",
    "\n",
    "- Now you are inside the spark docker container (imagine it as a virtual linux machine).\n",
    "\n",
    "----\n",
    "**Note: commands below are run from docker container linux system**\n",
    "\n",
    "\n",
    "- Let's \"cd\" to the mapped folder:\n",
    "\n",
    "```bash\n",
    "# change to mapped dir:\n",
    "cd /home/jovyan/mydir\n",
    "```\n",
    "\n",
    "\n",
    "- Let's check the file by running: \n",
    "\n",
    "```bash\n",
    " ls -l access.log\n",
    "```\n",
    "<font size=-2 color=grey>`-rw-r--r--@ 1 jovyan  staff 3502440823 Jan 26  2019 access.log`</font>\n",
    "\n",
    "- Let's check how many lines it has by running (this takes a while):\n",
    "\n",
    "```bash\n",
    "wc -l access.log\n",
    "```\n",
    "<font size=-2 color=grey>`10365152 access.log`</font>\n",
    "\n",
    "- Let's print the last 100 lines from end of the file:\n",
    "\n",
    "```bash\n",
    "tail -n 100 access.log\n",
    "```\n"
   ]
  },
  {
   "cell_type": "markdown",
   "metadata": {},
   "source": [
    "\n",
    "<font size=-2 color=#524d43>\n",
    "\n",
    "```\n",
    "151.239.2.90 - - [26/Jan/2019:20:29:09 +0330] \"GET /static/bundle-bundle_site_head.css HTTP/1.1\" 499 0 \"https://www.zanbil.ir/search/%D8%B3%D8%B1%D8%B1%D8%B3%DB%8C%D8%AF/p0\" \"Mozilla/5.0 (Windows NT 10.0; Win64; x64; rv:64.0) Gecko/20100101 Firefox/64.0\" \"-\"\n",
    "151.239.2.90 - - [26/Jan/2019:20:29:09 +0330] \"GET /image/%7B%7BbasketItem.id%7D%7D?type=productModel&wh=50x50 HTTP/1.1\" 200 5 \"https://www.zanbil.ir/search/%D8%B3%D8%B1%D8%B1%D8%B3%DB%8C%D8%AF/p0\" \"Mozilla/5.0 (Windows NT 10.0; Win64; x64; rv:64.0) Gecko/20100101 Firefox/64.0\" \"-\"\n",
    "5.114.175.169 - - [26/Jan/2019:20:29:09 +0330] \"GET /image/56602/productModel/200x200 HTTP/1.1\" 200 6188 \"https://www.zanbil.ir/m/filter/b2%2Cp65%2Ct31\" \"Mozilla/5.0 (iPhone; CPU iPhone OS 11_4_1 like Mac OS X) AppleWebKit/605.1.15 (KHTML, like Gecko) Version/11.0 Mobile/15E148 Safari/604.1\" \"-\"\n",
    "5.114.175.169 - - [26/Jan/2019:20:29:09 +0330] \"GET /image/62175/productModel/200x200 HTTP/1.1\" 200 8140 \"https://www.zanbil.ir/m/filter/b2%2Cp65%2Ct31\" \"Mozilla/5.0 (iPhone; CPU iPhone OS 11_4_1 like Mac OS X) AppleWebKit/605.1.15 (KHTML, like Gecko) Version/11.0 Mobile/15E148 Safari/604.1\" \"-\"\n",
    "5.114.175.169 - - [26/Jan/2019:20:29:09 +0330] \"GET /image/62064/productModel/200x200 HTTP/1.1\" 200 6840 \"https://www.zanbil.ir/m/filter/b2%2Cp65%2Ct31\" \"Mozilla/5.0 (iPhone; CPU iPhone OS 11_4_1 like Mac OS X) AppleWebKit/605.1.15 (KHTML, like Gecko) Version/11.0 Mobile/15E148 Safari/604.1\" \"-\"\n",
    "151.239.2.90 - - [26/Jan/2019:20:29:09 +0330] \"GET /static/images/search-category-arrow.png HTTP/1.1\" 200 217 \"https://znbl.ir/static/bundle-bundle_site_head.css\" \"Mozilla/5.0 (Windows NT 10.0; Win64; x64; rv:64.0) Gecko/20100101 Firefox/64.0\" \"-\"\n",
    "[truncated]\n",
    "```\n",
    "</font>"
   ]
  },
  {
   "cell_type": "markdown",
   "metadata": {
    "tags": []
   },
   "source": [
    "---\n",
    "\n",
    "## Understand the Web Log Format\n",
    "\n",
    "You want to read [this article](https://www.sumologic.com/blog/apache-access-log/) to understand the web log format. Each web site may have a slightly different format. In general, you will see a user IP at the beginning, then the timestamp (in `[ ]` in above case) and user request (in simplified terms, sending data is called `POST`, like send login password; retrieving data is called `GET`). The request URL doesn't contain the base domain name. So \n",
    "\n",
    "```\n",
    "GET /image/62175/productModel/200x200\n",
    "```\n",
    "\n",
    "means retrieving https://www.zanbil.ir/mage/62175/productModel/200x200\n",
    "(the base domain name of this web log is www.zanbil.ir)\n",
    "\n",
    "The 3 digits number after `HTTP/1.1` is the access status: 200 means success,` 3** means success but user previously requested the same data so it might be served from browser cache (saved data in user browser), 4** means client (user browser) error (404 is the infamous non-existing status); 5** means server error. <font color=\"orange\">So you only care about 200 and 3** status, and want to filter out lines with other status types.</font>\n",
    "\n",
    "You will see each IP at one timestamp requesting data from many URLs simultaneously--that's because when you click a page, multiple images, css, javascript files within that page will be retrieved and each leaves a separate web log entry. \n",
    "\n",
    "\n",
    "<font color=\"orange\">You want to remember before mining further you will filter out all lines containing requesting css or js (you want to manually figure out patterns for these types of urls) which are normally useless for our purpose.</font>"
   ]
  },
  {
   "cell_type": "markdown",
   "metadata": {},
   "source": [
    "You will also notice some log entry contain this type of lines:\n",
    "\n",
    "<font size=-2 color=#888>\n",
    "```\n",
    "37.129.59.160 - - [26/Jan/2019:20:29:12 +0330] \"GET /basket/add/62424?mobile=1&addedValues= HTTP/1.1\" 302 0 \"https://www-zanbil-ir.cdn.ampproject.org/v/s/www.zanbil.ir/m/product/32148/%DA%AF%D9%88%D8%B4%DB%8C-%D8%AA%D9%84%D9%81%D9%86-%D8%A8%DB%8C-%D8%B3%DB%8C%D9%85-%D9%BE%D8%A7%D9%86%D8%A7%D8%B3%D9%88%D9%86%DB%8C%DA%A9-%D9%85%D8%AF%D9%84-Panasonic-Cordless-Telephone-KX-TGC412?amp_js_v=0.1&usqp=mq331AQECAEoAQ%3D%3D\" \"Mozilla/5.0 (Linux; Android 6.0.1; D6633 Build/23.5.A.1.291) AppleWebKit/537.36 (KHTML, like Gecko) Chrome/69.0.3497.100 Mobile Safari/537.36\" \"-\"\n",
    "```\n",
    "</font>\n",
    "\n",
    "- Note: <font color=\"orange\">this URL `/basket/add/62424` means the user's action to add a product to the basket!</font>\n"
   ]
  },
  {
   "cell_type": "markdown",
   "metadata": {},
   "source": [
    "---\n",
    "\n",
    "### Preprocess Tasks \n",
    "\n",
    "To simplify our task, we will only consider users who have added at least a product to the basket. So preprocess steps involve:\n",
    "\n",
    "0. read the access.log into spark`*`\n",
    "1. filter out all unnecessary lines as highlighted in orange before.\n",
    "2. Get a list of IPs (let's call it uniqueIPs) who performed the action of adding product(s) to the basket \n",
    "3. filter out all records whose IP does not belong to the IP list in step 2.\n",
    "\n",
    "The remaining records are what we will mine with prefixspan.\n",
    "\n",
    "`*` For step 0, for reading text file into spark, follow examples on this page (click python version): https://spark.apache.org/docs/latest/mllib-frequent-pattern-mining.html\n"
   ]
  },
  {
   "cell_type": "markdown",
   "metadata": {},
   "source": [
    "### Example on a notebook running from docker container\n",
    "\n",
    "- Run this from docker container's Linux bash command line to show jupyter notebook tokens\n",
    "\n",
    "```\n",
    "jupyter notebook list\n",
    "```\n",
    "\n",
    "<font size=-2 color=grey>\n",
    "\n",
    "```\n",
    "Currently running servers:\n",
    "http://0.0.0.0:8888/?token=01e38a2234531e653d320df569dbc94173ebe89460cd57a :: /home/jovyan\n",
    "```\n",
    "</font>\n"
   ]
  },
  {
   "cell_type": "markdown",
   "metadata": {},
   "source": [
    "In your laptop browser you open this url:\n",
    "`http://127.0.0.1:10000/?token=01e38a2234531e653d320df569dbc94173ebe89460cd57a`\n",
    "\n",
    "Note you replace 8888 with 10000 , then you navigate to your mapped dir which is `mydir` if you follow above commands. Then you do \"file\" and new notebook, save the new notebook (file>save notebook). You will also see the new notebook in your laptop folder, in my case it's in `/Users/zhengqu` -- this notebook is running in docker container, so do not simultaneously open the same notebook in host laptop (Windows/MAC)'s jupyter! This creates conflict."
   ]
  },
  {
   "cell_type": "markdown",
   "metadata": {},
   "source": [
    "#### Let's see pyspark example from https://spark.apache.org/docs/latest/mllib-frequent-pattern-mining.html\n",
    "\n",
    "\n",
    "```python\n",
    "from pyspark.mllib.fpm import FPGrowth\n",
    "from pyspark import SparkContext \n",
    "sc = SparkContext('local[*]')\n",
    "\n",
    "# Note data is an object of RDD: pyspark.rdd.PipelinedRDD\n",
    "data = sc.textFile(\"data/mllib/sample_fpgrowth.txt\") \n",
    "transactions = data.map(lambda line: line.strip().split(' '))\n",
    "model = FPGrowth.train(transactions, minSupport=0.2, numPartitions=10)\n",
    "result = model.freqItemsets().collect() ## << note .collect() \n",
    "for fi in result:\n",
    "    print(fi)\n",
    "```\n",
    "\n",
    "Please run this example. Note \n",
    "- you need to download `sample_fpgrowth.txt` from \n",
    "https://github.com/apache/spark/raw/master/data/mllib/sample_fpgrowth.txt\n",
    "and properly specify the file path in `sc.textFile()`. You can use `!wget URL-to-data` in jupyter notebook, then `!ls path/to/downloaded/file` to verify the file\n",
    "- The spark object collection (data frame or pipelines) cannot be iterated until be applied with `.collect()` as in above example or using  `.take(n)` as in demo in class."
   ]
  },
  {
   "cell_type": "markdown",
   "metadata": {},
   "source": [
    "## <font color=red>You code to run example of sample_fpgrowth.txt with FPGrowth here </font>\n",
    "\n"
   ]
  },
  {
   "cell_type": "code",
   "execution_count": 6,
   "metadata": {
    "tags": []
   },
   "outputs": [
    {
     "name": "stdout",
     "output_type": "stream",
     "text": [
      "sample_fpgrowth.txt\n"
     ]
    }
   ],
   "source": [
    "!ls sample_fpgrowth.txt"
   ]
  },
  {
   "cell_type": "code",
   "execution_count": 7,
   "metadata": {
    "collapsed": true,
    "jupyter": {
     "outputs_hidden": true
    },
    "tags": []
   },
   "outputs": [
    {
     "name": "stdout",
     "output_type": "stream",
     "text": [
      "FreqItemset(items=['z'], freq=5)\n",
      "FreqItemset(items=['x'], freq=4)\n",
      "FreqItemset(items=['x', 'z'], freq=3)\n",
      "FreqItemset(items=['y'], freq=3)\n",
      "FreqItemset(items=['y', 'x'], freq=3)\n",
      "FreqItemset(items=['y', 'x', 'z'], freq=3)\n",
      "FreqItemset(items=['y', 'z'], freq=3)\n",
      "FreqItemset(items=['r'], freq=3)\n",
      "FreqItemset(items=['r', 'x'], freq=2)\n",
      "FreqItemset(items=['r', 'z'], freq=2)\n",
      "FreqItemset(items=['s'], freq=3)\n",
      "FreqItemset(items=['s', 'y'], freq=2)\n",
      "FreqItemset(items=['s', 'y', 'x'], freq=2)\n",
      "FreqItemset(items=['s', 'y', 'x', 'z'], freq=2)\n",
      "FreqItemset(items=['s', 'y', 'z'], freq=2)\n",
      "FreqItemset(items=['s', 'x'], freq=3)\n",
      "FreqItemset(items=['s', 'x', 'z'], freq=2)\n",
      "FreqItemset(items=['s', 'z'], freq=2)\n",
      "FreqItemset(items=['t'], freq=3)\n",
      "FreqItemset(items=['t', 'y'], freq=3)\n",
      "FreqItemset(items=['t', 'y', 'x'], freq=3)\n",
      "FreqItemset(items=['t', 'y', 'x', 'z'], freq=3)\n",
      "FreqItemset(items=['t', 'y', 'z'], freq=3)\n",
      "FreqItemset(items=['t', 's'], freq=2)\n",
      "FreqItemset(items=['t', 's', 'y'], freq=2)\n",
      "FreqItemset(items=['t', 's', 'y', 'x'], freq=2)\n",
      "FreqItemset(items=['t', 's', 'y', 'x', 'z'], freq=2)\n",
      "FreqItemset(items=['t', 's', 'y', 'z'], freq=2)\n",
      "FreqItemset(items=['t', 's', 'x'], freq=2)\n",
      "FreqItemset(items=['t', 's', 'x', 'z'], freq=2)\n",
      "FreqItemset(items=['t', 's', 'z'], freq=2)\n",
      "FreqItemset(items=['t', 'x'], freq=3)\n",
      "FreqItemset(items=['t', 'x', 'z'], freq=3)\n",
      "FreqItemset(items=['t', 'z'], freq=3)\n",
      "FreqItemset(items=['p'], freq=2)\n",
      "FreqItemset(items=['p', 'r'], freq=2)\n",
      "FreqItemset(items=['p', 'r', 'z'], freq=2)\n",
      "FreqItemset(items=['p', 'z'], freq=2)\n",
      "FreqItemset(items=['q'], freq=2)\n",
      "FreqItemset(items=['q', 'y'], freq=2)\n",
      "FreqItemset(items=['q', 'y', 'x'], freq=2)\n",
      "FreqItemset(items=['q', 'y', 'x', 'z'], freq=2)\n",
      "FreqItemset(items=['q', 'y', 'z'], freq=2)\n",
      "FreqItemset(items=['q', 't'], freq=2)\n",
      "FreqItemset(items=['q', 't', 'y'], freq=2)\n",
      "FreqItemset(items=['q', 't', 'y', 'x'], freq=2)\n",
      "FreqItemset(items=['q', 't', 'y', 'x', 'z'], freq=2)\n",
      "FreqItemset(items=['q', 't', 'y', 'z'], freq=2)\n",
      "FreqItemset(items=['q', 't', 'x'], freq=2)\n",
      "FreqItemset(items=['q', 't', 'x', 'z'], freq=2)\n",
      "FreqItemset(items=['q', 't', 'z'], freq=2)\n",
      "FreqItemset(items=['q', 'x'], freq=2)\n",
      "FreqItemset(items=['q', 'x', 'z'], freq=2)\n",
      "FreqItemset(items=['q', 'z'], freq=2)\n"
     ]
    }
   ],
   "source": [
    "from pyspark.mllib.fpm import FPGrowth\n",
    "from pyspark import SparkContext \n",
    "# sc = SparkContext('local[*]')\n",
    "sc = SparkContext.getOrCreate();\n",
    "\n",
    "# Note data is an object of RDD: pyspark.rdd.PipelinedRDD\n",
    "data = sc.textFile(\"sample_fpgrowth.txt\") \n",
    "transactions = data.map(lambda line: line.strip().split(' '))\n",
    "model = FPGrowth.train(transactions, minSupport=0.2, numPartitions=10)\n",
    "result = model.freqItemsets().collect() ## << note .collect() \n",
    "for fi in result:\n",
    "    print(fi)"
   ]
  },
  {
   "cell_type": "markdown",
   "metadata": {
    "tags": []
   },
   "source": [
    "Note:\n",
    "\n",
    "- data is an object of RDD: \n",
    "```python\n",
    "type(data)\n",
    "```\n",
    "> <font size=-2>pyspark.rdd.PipelinedRDD</font>\n",
    "- `sc.textFile()` takes the path to your input file. Use jupyter command `!ls path/to/access.log` to verify your file path. Or switch to docker container command line, using something like `ls /home/jovyan/mydir/access.log` to verify.\n",
    "- `data.map()` takes a function to be applied to each line in the input text file. If you prefer not using lambda function, you can define a named function like:\n",
    "```python\n",
    "def myParser (line): \n",
    "   return line.strip().split(' ')\n",
    "```\n",
    "\n",
    "And then you can use `data.map` like:\n",
    "```python\n",
    "transactions = data.map(myParser)\n",
    "```\n",
    "\n",
    "Please try it in the example. Also reference notebook \"pyspark-ex.ipynb\" used in my video demo for docker/spark.\n"
   ]
  },
  {
   "cell_type": "markdown",
   "metadata": {},
   "source": [
    "## <font color=red>You code to run example of sample_fpgrowth.txt with myParser here </font>"
   ]
  },
  {
   "cell_type": "code",
   "execution_count": 8,
   "metadata": {
    "collapsed": true,
    "jupyter": {
     "outputs_hidden": true
    },
    "tags": []
   },
   "outputs": [
    {
     "name": "stdout",
     "output_type": "stream",
     "text": [
      "FreqItemset(items=['z'], freq=5)\n",
      "FreqItemset(items=['x'], freq=4)\n",
      "FreqItemset(items=['x', 'z'], freq=3)\n",
      "FreqItemset(items=['y'], freq=3)\n",
      "FreqItemset(items=['y', 'x'], freq=3)\n",
      "FreqItemset(items=['y', 'x', 'z'], freq=3)\n",
      "FreqItemset(items=['y', 'z'], freq=3)\n",
      "FreqItemset(items=['r'], freq=3)\n",
      "FreqItemset(items=['r', 'x'], freq=2)\n",
      "FreqItemset(items=['r', 'z'], freq=2)\n",
      "FreqItemset(items=['s'], freq=3)\n",
      "FreqItemset(items=['s', 'y'], freq=2)\n",
      "FreqItemset(items=['s', 'y', 'x'], freq=2)\n",
      "FreqItemset(items=['s', 'y', 'x', 'z'], freq=2)\n",
      "FreqItemset(items=['s', 'y', 'z'], freq=2)\n",
      "FreqItemset(items=['s', 'x'], freq=3)\n",
      "FreqItemset(items=['s', 'x', 'z'], freq=2)\n",
      "FreqItemset(items=['s', 'z'], freq=2)\n",
      "FreqItemset(items=['t'], freq=3)\n",
      "FreqItemset(items=['t', 'y'], freq=3)\n",
      "FreqItemset(items=['t', 'y', 'x'], freq=3)\n",
      "FreqItemset(items=['t', 'y', 'x', 'z'], freq=3)\n",
      "FreqItemset(items=['t', 'y', 'z'], freq=3)\n",
      "FreqItemset(items=['t', 's'], freq=2)\n",
      "FreqItemset(items=['t', 's', 'y'], freq=2)\n",
      "FreqItemset(items=['t', 's', 'y', 'x'], freq=2)\n",
      "FreqItemset(items=['t', 's', 'y', 'x', 'z'], freq=2)\n",
      "FreqItemset(items=['t', 's', 'y', 'z'], freq=2)\n",
      "FreqItemset(items=['t', 's', 'x'], freq=2)\n",
      "FreqItemset(items=['t', 's', 'x', 'z'], freq=2)\n",
      "FreqItemset(items=['t', 's', 'z'], freq=2)\n",
      "FreqItemset(items=['t', 'x'], freq=3)\n",
      "FreqItemset(items=['t', 'x', 'z'], freq=3)\n",
      "FreqItemset(items=['t', 'z'], freq=3)\n",
      "FreqItemset(items=['p'], freq=2)\n",
      "FreqItemset(items=['p', 'r'], freq=2)\n",
      "FreqItemset(items=['p', 'r', 'z'], freq=2)\n",
      "FreqItemset(items=['p', 'z'], freq=2)\n",
      "FreqItemset(items=['q'], freq=2)\n",
      "FreqItemset(items=['q', 'y'], freq=2)\n",
      "FreqItemset(items=['q', 'y', 'x'], freq=2)\n",
      "FreqItemset(items=['q', 'y', 'x', 'z'], freq=2)\n",
      "FreqItemset(items=['q', 'y', 'z'], freq=2)\n",
      "FreqItemset(items=['q', 't'], freq=2)\n",
      "FreqItemset(items=['q', 't', 'y'], freq=2)\n",
      "FreqItemset(items=['q', 't', 'y', 'x'], freq=2)\n",
      "FreqItemset(items=['q', 't', 'y', 'x', 'z'], freq=2)\n",
      "FreqItemset(items=['q', 't', 'y', 'z'], freq=2)\n",
      "FreqItemset(items=['q', 't', 'x'], freq=2)\n",
      "FreqItemset(items=['q', 't', 'x', 'z'], freq=2)\n",
      "FreqItemset(items=['q', 't', 'z'], freq=2)\n",
      "FreqItemset(items=['q', 'x'], freq=2)\n",
      "FreqItemset(items=['q', 'x', 'z'], freq=2)\n",
      "FreqItemset(items=['q', 'z'], freq=2)\n"
     ]
    }
   ],
   "source": [
    "def myParser1 (line): \n",
    "   return line.strip().split(' ')\n",
    "\n",
    "sc = SparkContext.getOrCreate();\n",
    "\n",
    "data = sc.textFile(\"sample_fpgrowth.txt\") \n",
    "transactions = data.map(myParser1)\n",
    "model = FPGrowth.train(transactions, minSupport=0.2, numPartitions=10)\n",
    "result = model.freqItemsets().collect() ## << note .collect() \n",
    "for fi in result:\n",
    "    print(fi)"
   ]
  },
  {
   "cell_type": "markdown",
   "metadata": {},
   "source": [
    "## Read and parse data in spark\n",
    "\n",
    "In this project, your function, let's still call it `myParser` for `data.map()` should take a line of string and  return a tuple of\n",
    "\n",
    "`IP, TIMESTAMP, REQUEST_URL, STATUS`\n",
    "\n",
    "- `IP` can be a string, \n",
    "- `TIMESTAMP` should be a datetime object, refer to [this tutorial](https://stackabuse.com/converting-strings-to-datetime-in-python/) for converting string to datetime object. (note: timezone doesn't matter in this project because all records are in the same timezone, which is server time, so you can ignore it.)\n",
    "- `REQUEST_URL` is a string\n",
    "- STATUS is integer, 200, 302 etc.\n",
    "\n",
    "\n",
    "It's a good habit to test your function `myParser` first, with a smaller dataset and without spark, before proceeding. You can create a 20 line file for this by running this in docker container Linux command line:\n",
    "```bash\n",
    "tail -n 20 access.log > small20.log\n",
    "```\n",
    "\n",
    "This will create a file \"small20.log\"\n",
    "\n",
    "You can view it by running following command in docker container Linux command:\n",
    "```bash\n",
    "cat small20.log\n",
    "```\n",
    "\n",
    "Now you can test this file (note it's sitting inside `\"/home/jovyan/mydir\"` ) by following python code in Jupyter notebook:\n",
    "\n",
    "```python\n",
    "# Note this test doesn't involve spark\n",
    "lines = open(\"/home/jovyan/mydir/small20.log\").readlines()\n",
    "for l in map(myParser, lines):\n",
    "   print(l)\n",
    "```\n",
    "\n",
    "\n"
   ]
  },
  {
   "cell_type": "markdown",
   "metadata": {},
   "source": [
    "## <font color=red>You code for defining function `myParser` and testing it on small20.log without using spark (you can use code above) here </font>"
   ]
  },
  {
   "cell_type": "code",
   "execution_count": null,
   "metadata": {},
   "outputs": [],
   "source": [
    "# !tail -n 20 access.log > small20.log\n",
    "# !tail -n 200 access.log > small200.log\n",
    "# !tail -n 500 access.log > small500.log\n",
    "# !tail -n 1000 access.log > small1000.log\n",
    "# !tail -n 2000 access.log > small2000.log\n",
    "# !tail -n 5000 access.log > small5000.log\n",
    "# !tail -n 10000 access.log > small10000.log\n",
    "# !tail -n 50000 access.log > small50000.log\n",
    "# !tail -n 100000 access.log > small100000.log\n",
    "# !tail -n 500000 access.log > small500000.log\n",
    "# !tail -n 1000000 access.log > small1000000.log\n",
    "# !tail -n 5000000 access.log > small5000000.log\n",
    "# !tail -n 10000000 access.log > small10000000.log"
   ]
  },
  {
   "cell_type": "code",
   "execution_count": 117,
   "metadata": {
    "tags": []
   },
   "outputs": [],
   "source": [
    "from datetime import datetime\n",
    "def myParser2(logdata):\n",
    "    tmp = logdata.strip().split(' ')\n",
    "\n",
    "    statlist = []\n",
    "    \n",
    "    for j in range(len(tmp)):\n",
    "        if 'HTTP' in tmp[j]:\n",
    "            statlist.append(tmp[j+1])\n",
    "            \n",
    "    REQUEST_URL = tmp[6]\n",
    "    \n",
    "    if len(statlist) == 0:\n",
    "        STATUS = 0\n",
    "    else:\n",
    "        STATUS = statlist[0]\n",
    "            \n",
    "    # return str(tmp[0]), tmp[3][1:], str(REQUEST_URL), STATUS\n",
    "    return str(tmp[0]), datetime.strptime(tmp[3][1:], '%d/%b/%Y:%H:%M:%S'), str(REQUEST_URL), STATUS\n"
   ]
  },
  {
   "cell_type": "code",
   "execution_count": 118,
   "metadata": {
    "tags": []
   },
   "outputs": [
    {
     "name": "stdout",
     "output_type": "stream",
     "text": [
      "('91.99.55.165', datetime.datetime(2019, 1, 26, 20, 29, 12), '/m/filter/p2597%2Cb231?page=1', '200')\n",
      "('151.242.106.253', datetime.datetime(2019, 1, 26, 20, 29, 12), '/image/30181?name=fsr14-55.jpg&wh=max', '200')\n",
      "('192.15.51.231', datetime.datetime(2019, 1, 26, 20, 29, 13), '/image/267/productModel/150x150', '200')\n",
      "('13.66.139.0', datetime.datetime(2019, 1, 26, 20, 29, 13), '/product/29746/%D9%85%D8%A7%D8%B4%DB%8C%D9%86-%D8%A7%D8%B5%D9%84%D8%A7%D8%AD-%D8%A8%D8%AF%D9%86-%D9%BE%D8%B1%D9%86%D8%B3%D9%84%DB%8C-%D9%85%D8%AF%D9%84-Princely-Body-Groomer-PR461AT', '200')\n",
      "('45.79.177.249', datetime.datetime(2019, 1, 26, 20, 29, 13), '/m/browse/evaporative-air-cooler/%DA%A9%D9%88%D9%84%D8%B1-%D8%A2%D8%A8%DB%8C', '200')\n",
      "('180.94.84.225', datetime.datetime(2019, 1, 26, 20, 29, 13), '/image/get?path=/Image/ofa4bc2n.jpg', '200')\n",
      "('5.134.161.178', datetime.datetime(2019, 1, 26, 20, 29, 13), '/image/216/brand', '200')\n",
      "('5.134.161.178', datetime.datetime(2019, 1, 26, 20, 29, 13), '/image/217/brand', '200')\n",
      "('5.134.161.178', datetime.datetime(2019, 1, 26, 20, 29, 13), '/image/105/brand', '200')\n",
      "('192.15.51.231', datetime.datetime(2019, 1, 26, 20, 29, 13), '/image/184/productModel/150x150', '200')\n",
      "('109.125.169.52', datetime.datetime(2019, 1, 26, 20, 29, 13), '/', '200')\n",
      "('5.113.60.62', datetime.datetime(2019, 1, 26, 20, 29, 13), '/static/images/amp/instagram.png', '200')\n",
      "('5.113.60.62', datetime.datetime(2019, 1, 26, 20, 29, 13), '/static/images/amp/telegram.png', '200')\n",
      "('5.113.60.62', datetime.datetime(2019, 1, 26, 20, 29, 13), '/static/images/amp/blog.png', '200')\n",
      "('5.113.60.62', datetime.datetime(2019, 1, 26, 20, 29, 13), '/static/images/amp/third-party/footer-mobile.png', '200')\n",
      "('188.229.21.56', datetime.datetime(2019, 1, 26, 20, 29, 13), '/content/view/shoppingRules', '302')\n",
      "('5.127.220.71', datetime.datetime(2019, 1, 26, 20, 29, 13), '/apple-touch-icon-120x120.png', '404')\n",
      "('5.213.7.50', datetime.datetime(2019, 1, 26, 20, 29, 13), '/m/product/18962/%D8%BA%D8%B0%D8%A7-%D8%B3%D8%A7%D8%B2-%D9%85%D9%88%D9%84%DB%8C%D9%86%DA%A9%D8%B3-%D9%85%D8%AF%D9%84-FP7367RT', '200')\n",
      "('109.125.169.52', datetime.datetime(2019, 1, 26, 20, 29, 13), '/image/%7B%7BbasketItem.id%7D%7D?type=productModel&wh=50x50', '200')\n",
      "('37.129.59.160', datetime.datetime(2019, 1, 26, 20, 29, 13), '/basket/view', '200')\n"
     ]
    }
   ],
   "source": [
    "lines = open(\"/home/jovyan/mydir/small20.log\").readlines()\n",
    "\n",
    "for l in map(myParser2, lines):\n",
    "    print(l)"
   ]
  },
  {
   "cell_type": "markdown",
   "metadata": {},
   "source": [
    "After your test, apply your function `myParser` in spark RDD and print out 15 rows （use data.take(15) ）from your large spark data (based upon the large access.log file), note each row will be:\n",
    "\n",
    "IP, TIMESTAMP, REQUEST_URL, STATUS\n"
   ]
  },
  {
   "cell_type": "markdown",
   "metadata": {},
   "source": [
    "## <font color=red>You code to test `myParser` on reading access.log as spark RDD and print out 15 rows here </font>"
   ]
  },
  {
   "cell_type": "code",
   "execution_count": 63,
   "metadata": {
    "tags": []
   },
   "outputs": [],
   "source": [
    "from pyspark.mllib.fpm import FPGrowth\n",
    "from pyspark import SparkContext \n",
    "sc = SparkContext.getOrCreate()\n",
    "data = sc.textFile(\"access.log\") \n",
    "parsed_data = data.map(myParser2)"
   ]
  },
  {
   "cell_type": "code",
   "execution_count": 64,
   "metadata": {
    "collapsed": true,
    "jupyter": {
     "outputs_hidden": true
    },
    "tags": []
   },
   "outputs": [
    {
     "data": {
      "text/plain": [
       "[('54.36.149.41',\n",
       "  '22/Jan/2019:03:56:14',\n",
       "  '/filter/27|13%20%D9%85%DA%AF%D8%A7%D9%BE%DB%8C%DA%A9%D8%B3%D9%84,27|%DA%A9%D9%85%D8%AA%D8%B1%20%D8%A7%D8%B2%205%20%D9%85%DA%AF%D8%A7%D9%BE%DB%8C%DA%A9%D8%B3%D9%84,p53',\n",
       "  '200'),\n",
       " ('31.56.96.51',\n",
       "  '22/Jan/2019:03:56:16',\n",
       "  '/image/60844/productModel/200x200',\n",
       "  '200'),\n",
       " ('31.56.96.51',\n",
       "  '22/Jan/2019:03:56:16',\n",
       "  '/image/61474/productModel/200x200',\n",
       "  '200'),\n",
       " ('40.77.167.129',\n",
       "  '22/Jan/2019:03:56:17',\n",
       "  '/image/14925/productModel/100x100',\n",
       "  '200'),\n",
       " ('91.99.72.15',\n",
       "  '22/Jan/2019:03:56:17',\n",
       "  '/product/31893/62100/%D8%B3%D8%B4%D9%88%D8%A7%D8%B1-%D8%AE%D8%A7%D9%86%DA%AF%DB%8C-%D9%BE%D8%B1%D9%86%D8%B3%D9%84%DB%8C-%D9%85%D8%AF%D9%84-PR257AT',\n",
       "  '200'),\n",
       " ('40.77.167.129',\n",
       "  '22/Jan/2019:03:56:17',\n",
       "  '/image/23488/productModel/150x150',\n",
       "  '200'),\n",
       " ('40.77.167.129',\n",
       "  '22/Jan/2019:03:56:18',\n",
       "  '/image/45437/productModel/150x150',\n",
       "  '200'),\n",
       " ('40.77.167.129',\n",
       "  '22/Jan/2019:03:56:18',\n",
       "  '/image/576/article/100x100',\n",
       "  '200'),\n",
       " ('66.249.66.194',\n",
       "  '22/Jan/2019:03:56:18',\n",
       "  '/filter/b41,b665,c150%7C%D8%A8%D8%AE%D8%A7%D8%B1%D9%BE%D8%B2,p56',\n",
       "  '200'),\n",
       " ('40.77.167.129',\n",
       "  '22/Jan/2019:03:56:18',\n",
       "  '/image/57710/productModel/100x100',\n",
       "  '200'),\n",
       " ('207.46.13.136', '22/Jan/2019:03:56:18', '/product/10214', '200'),\n",
       " ('40.77.167.129',\n",
       "  '22/Jan/2019:03:56:19',\n",
       "  '/image/578/article/100x100',\n",
       "  '200'),\n",
       " ('178.253.33.51',\n",
       "  '22/Jan/2019:03:56:19',\n",
       "  '/m/product/32574/62991/%D9%85%D8%A7%D8%B4%DB%8C%D9%86-%D8%A7%D8%B5%D9%84%D8%A7%D8%AD-%D8%B5%D9%88%D8%B1%D8%AA-%D9%BE%D8%B1%D9%86%D8%B3%D9%84%DB%8C-%D9%85%D8%AF%D9%84-PR465AT',\n",
       "  '200'),\n",
       " ('40.77.167.129',\n",
       "  '22/Jan/2019:03:56:19',\n",
       "  '/image/6229/productModel/100x100',\n",
       "  '200'),\n",
       " ('91.99.72.15',\n",
       "  '22/Jan/2019:03:56:19',\n",
       "  '/product/10075/13903/%D9%85%D8%A7%DB%8C%DA%A9%D8%B1%D9%88%D9%81%D8%B1-%D8%B1%D9%88%D9%85%DB%8C%D8%B2%DB%8C-%D8%B3%D8%A7%D9%85%D8%B3%D9%88%D9%86%DA%AF-%D9%85%D8%AF%D9%84-CE288',\n",
       "  '200')]"
      ]
     },
     "execution_count": 64,
     "metadata": {},
     "output_type": "execute_result"
    }
   ],
   "source": [
    "parsed_data.take(15)"
   ]
  },
  {
   "cell_type": "markdown",
   "metadata": {},
   "source": [
    "## Filtering the spark data\n",
    "\n",
    "Now you want to filter your RDD. We completed step 0 below. The remaining steps are 1,2,3.\n",
    "\n",
    "0. read the access.log into spark (**completed**)\n",
    "1. filter out all unnecessary lines as highlighted before.\n",
    "2. Get a list of IPs (let's call it uniqueIPs) who performed the action of adding product(s) to the basket \n",
    "3. filter out all records whose IP does not belong to the IP list in step 2."
   ]
  },
  {
   "cell_type": "markdown",
   "metadata": {},
   "source": [
    "#### Converting RDD to dataframe\n",
    "\n",
    "In order to do filtering operations, we want to convert the RDD into spark dataframe. Let's run and study following examples. \n",
    "\n",
    "**Note**: in case you get error with `ValueError: Cannot run multiple SparkContexts at once` you need to stop previous `SparkContext` by running\n",
    "```python\n",
    "sc.stop()\n",
    "```\n",
    "\n",
    "Or you comment the line for `sc = SparkContext('local[*]')`\n",
    "\n",
    "**Important** Run and **study** the code example below carefully, you might use every line of it, with modification, for the project.\n",
    "\n",
    "```python\n",
    "from pyspark.sql import SparkSession\n",
    "from pyspark import SparkContext\n",
    "import pyspark.sql.functions as F\n",
    "\n",
    "\n",
    "sc = SparkContext('local[*]') # comment this in case you already have SparkContext running\n",
    "\n",
    "\n",
    "\n",
    "dataList = [(\"James\", \"Cameron\",\"Sales\",\"NY\",90000,34,10000),\n",
    "    (\"Michael\", \"Johnson\",\"Sales\",\"NY\",86000,56,20000),\n",
    "    (\"Robert\", \"Stromberg\",\"Sales\",\"CA\",81000,30,23000),\n",
    "    (\"Maria\", \"McDonald\",\"Finance\",\"CA\",90000,24,23000),\n",
    "    (\"Raman\",\"Pearson\",\"Finance\",\"CA\",99000,40,24000),\n",
    "    (\"Scott\",\"Kindel\",\"Finance\",\"NY\",83000,36,19000),\n",
    "    (\"Jen\",\"Lewis\",\"Finance\",\"NY\",79000,53,15000),\n",
    "    (\"Jeff\", \"Scott\",\"Marketing\",\"CA\",80000,25,18000),\n",
    "    (\"Kumar\", \"Jobs\",\"Marketing\",\"NY\",91000,50,21000)\n",
    "  ]\n",
    "rdd=sc.parallelize(dataList) # Note RDD is created from list, similar to creating it from a text file\n",
    "\n",
    "# *** Now we convert rdd to dataframe\n",
    "spark = SparkSession(sc) # this is necessary for rdd to be converted to data frame\n",
    "\n",
    "# converting RDD to DataFrame\n",
    "df = rdd.toDF(schema = [\"first_name\", \"last_name\",\"department\",\"state\",\"salary\",\"age\",\"bonus\"])\n",
    "\n",
    "# Show schema\n",
    "df.printSchema()\n",
    "\n",
    "# Show data frame\n",
    "df.show(truncate=False)\n",
    "\n",
    "# Note we create two new columns from grouped data:\n",
    "# they are renamed as dep_salary, dep_individual_salary\n",
    "df.groupBy(\"department\").agg(F.sum('salary').alias(\"dep_salary\"), \n",
    "          F.collect_list('salary').alias(\"dep_individual_salary\")).show()\n",
    "```\n"
   ]
  },
  {
   "cell_type": "code",
   "execution_count": 13,
   "metadata": {
    "collapsed": true,
    "jupyter": {
     "outputs_hidden": true,
     "source_hidden": true
    },
    "tags": []
   },
   "outputs": [
    {
     "name": "stdout",
     "output_type": "stream",
     "text": [
      "root\n",
      " |-- first_name: string (nullable = true)\n",
      " |-- last_name: string (nullable = true)\n",
      " |-- department: string (nullable = true)\n",
      " |-- state: string (nullable = true)\n",
      " |-- salary: long (nullable = true)\n",
      " |-- age: long (nullable = true)\n",
      " |-- bonus: long (nullable = true)\n",
      "\n",
      "+----------+---------+----------+-----+------+---+-----+\n",
      "|first_name|last_name|department|state|salary|age|bonus|\n",
      "+----------+---------+----------+-----+------+---+-----+\n",
      "|James     |Cameron  |Sales     |NY   |90000 |34 |10000|\n",
      "|Michael   |Johnson  |Sales     |NY   |86000 |56 |20000|\n",
      "|Robert    |Stromberg|Sales     |CA   |81000 |30 |23000|\n",
      "|Maria     |McDonald |Finance   |CA   |90000 |24 |23000|\n",
      "|Raman     |Pearson  |Finance   |CA   |99000 |40 |24000|\n",
      "|Scott     |Kindel   |Finance   |NY   |83000 |36 |19000|\n",
      "|Jen       |Lewis    |Finance   |NY   |79000 |53 |15000|\n",
      "|Jeff      |Scott    |Marketing |CA   |80000 |25 |18000|\n",
      "|Kumar     |Jobs     |Marketing |NY   |91000 |50 |21000|\n",
      "+----------+---------+----------+-----+------+---+-----+\n",
      "\n",
      "+----------+----------+---------------------+\n",
      "|department|dep_salary|dep_individual_salary|\n",
      "+----------+----------+---------------------+\n",
      "|     Sales|    257000| [90000, 86000, 81...|\n",
      "|   Finance|    351000| [90000, 99000, 83...|\n",
      "| Marketing|    171000|       [80000, 91000]|\n",
      "+----------+----------+---------------------+\n",
      "\n"
     ]
    }
   ],
   "source": [
    "from pyspark.sql import SparkSession\n",
    "from pyspark import SparkContext\n",
    "import pyspark.sql.functions as F\n",
    "\n",
    "# sc = SparkContext('local[*]') # comment this in case you already have SparkContext running\n",
    "sc = SparkContext.getOrCreate();\n",
    "\n",
    "dataList = [(\"James\", \"Cameron\",\"Sales\",\"NY\",90000,34,10000),\n",
    "    (\"Michael\", \"Johnson\",\"Sales\",\"NY\",86000,56,20000),\n",
    "    (\"Robert\", \"Stromberg\",\"Sales\",\"CA\",81000,30,23000),\n",
    "    (\"Maria\", \"McDonald\",\"Finance\",\"CA\",90000,24,23000),\n",
    "    (\"Raman\",\"Pearson\",\"Finance\",\"CA\",99000,40,24000),\n",
    "    (\"Scott\",\"Kindel\",\"Finance\",\"NY\",83000,36,19000),\n",
    "    (\"Jen\",\"Lewis\",\"Finance\",\"NY\",79000,53,15000),\n",
    "    (\"Jeff\", \"Scott\",\"Marketing\",\"CA\",80000,25,18000),\n",
    "    (\"Kumar\", \"Jobs\",\"Marketing\",\"NY\",91000,50,21000)\n",
    "  ]\n",
    "rdd=sc.parallelize(dataList) # Note RDD is created from list, similar to creating it from a text file\n",
    "\n",
    "# *** Now we convert rdd to dataframe\n",
    "spark = SparkSession(sc) # this is necessary for rdd to be converted to data frame\n",
    "\n",
    "# converting RDD to DataFrame\n",
    "df = rdd.toDF(schema = [\"first_name\", \"last_name\",\"department\",\"state\",\"salary\",\"age\",\"bonus\"])\n",
    "\n",
    "# Show schema\n",
    "df.printSchema()\n",
    "\n",
    "# Show data frame\n",
    "df.show(truncate=False)\n",
    "\n",
    "# Note we create two new columns from grouped data:\n",
    "# they are renamed as dep_salary, dep_individual_salary\n",
    "df.groupBy(\"department\").agg(F.sum('salary').alias(\"dep_salary\"), \n",
    "          F.collect_list('salary').alias(\"dep_individual_salary\")).show()"
   ]
  },
  {
   "cell_type": "markdown",
   "metadata": {},
   "source": [
    "## Actual steps for filtering the spark data\n",
    "\n",
    "Now you write your code to \n",
    "\n",
    "1. Convert spark RDD to Data Frame, then filter out all unnecessary lines as highlighted in <font color=orange>orange</font> in the above section `Understand the Web Log Format`.\n",
    "2. Get a list of IPs (let's call it `uniqueIPs`) who performed the action of adding product(s) to the basket \n",
    "3. filter out all records whose IP does not belong to the IP list in step 2.\n",
    "4. Note step 2 and 3 should not be performed literally. I am using the language for easy understanding. This will be explained further in next section (see `last note`)\n",
    "\n"
   ]
  },
  {
   "cell_type": "markdown",
   "metadata": {},
   "source": [
    "## Important resources for wrangling spark data, should you encounter problems\n",
    "\n",
    "- When testing your code you have to go through many trial and error cycles; It may speed up your coding process by creating a reletively smaller data file (say, 10,000 ~ 30,000 lines) to test your code until it succeeds.\n",
    "- Please bookmark [this tutorial](https://sparkbyexamples.com/) and study relevant examples (browse the menu on the left) if you have trouble with certain functions.\n",
    "- You may want to explore `where` or `filter`, `groupBy`, `agg`, `withColumn`, `Date and Timestamp Functions`, `udf` (user defined function)\n",
    "- **Note** the examples in general ommited import statements. If you have errors saying certain objects not defined, it may be resolved by \n",
    "```python\n",
    "from pyspark.sql.functions import *\n",
    "from from pyspark.sql.types import *\n",
    "```\n",
    "Or you search google with something like `pyspark import udf`\n",
    "- One useful function to be applied to data frame column is `.isin()` which takes a list and check column elements against that list. see https://spark.apache.org/docs/latest/api/python/reference/api/pyspark.sql.Column.isin.html?highlight=isin\n",
    "- To convert a spark dataframe column into a python list, you need to use toPandas then pandas function will work, for example to get first name list from above example df:\n",
    "```python\n",
    "h = df.select(\"first_name\").toPandas()\n",
    "huge_list = list( h[\"first_name\"].values)\n",
    "huge_list\n",
    "```\n",
    "\n",
    "- **Last note**: Filtering a spark data frame with a list could be extremely slow if you deal with huge list and big data frame. Standard approach is to use two dataframes and apply [inner join](https://sparkbyexamples.com/pyspark/pyspark-join-explained-with-examples/) for this scenario. So please use inner join or simply use sql syntax. If you stick with `.isin(huge_list)` you get 2 points deduction."
   ]
  },
  {
   "cell_type": "markdown",
   "metadata": {},
   "source": [
    "## <font color=red>You code for filtering spark data here </font>"
   ]
  },
  {
   "cell_type": "code",
   "execution_count": 7,
   "metadata": {
    "tags": []
   },
   "outputs": [],
   "source": [
    "from datetime import datetime\n",
    "def myParser2(logdata):\n",
    "    tmp = logdata.strip().split(' ')\n",
    "\n",
    "    statlist = []\n",
    "    \n",
    "    for j in range(len(tmp)):\n",
    "        if 'HTTP' in tmp[j]:\n",
    "            statlist.append(tmp[j+1])\n",
    "            \n",
    "    REQUEST_URL = tmp[6]\n",
    "    \n",
    "    if len(statlist) == 0:\n",
    "        STATUS = 0\n",
    "    else:\n",
    "        STATUS = statlist[0]\n",
    "            \n",
    "    # return str(tmp[0]), tmp[3][1:], str(REQUEST_URL), STATUS\n",
    "    return str(tmp[0]), datetime.strptime(tmp[3][1:], '%d/%b/%Y:%H:%M:%S'), str(REQUEST_URL), STATUS"
   ]
  },
  {
   "cell_type": "code",
   "execution_count": 8,
   "metadata": {
    "tags": []
   },
   "outputs": [],
   "source": [
    "from pyspark.mllib.fpm import FPGrowth\n",
    "from pyspark import SparkContext \n",
    "sc = SparkContext.getOrCreate()\n",
    "data = sc.textFile(\"access.log\") \n",
    "parsed_data = data.map(myParser2)"
   ]
  },
  {
   "cell_type": "code",
   "execution_count": 9,
   "metadata": {
    "tags": []
   },
   "outputs": [],
   "source": [
    "from pyspark.sql.functions import *\n",
    "from pyspark.sql.types import *\n",
    "from pyspark.sql import SparkSession\n",
    "from pyspark import SparkContext\n",
    "import pyspark.sql.functions as F\n",
    "from pyspark.sql.functions import col\n",
    "\n",
    "sc = SparkContext.getOrCreate();\n",
    "\n",
    "spark = SparkSession(sc)"
   ]
  },
  {
   "cell_type": "code",
   "execution_count": 10,
   "metadata": {
    "tags": []
   },
   "outputs": [
    {
     "name": "stdout",
     "output_type": "stream",
     "text": [
      "root\n",
      " |-- ip: string (nullable = true)\n",
      " |-- timestamp: timestamp (nullable = true)\n",
      " |-- requesturl: string (nullable = true)\n",
      " |-- status: string (nullable = true)\n",
      "\n",
      "+-------------+-------------------+--------------------+------+\n",
      "|           ip|          timestamp|          requesturl|status|\n",
      "+-------------+-------------------+--------------------+------+\n",
      "| 54.36.149.41|2019-01-22 03:56:14|/filter/27|13%20%...|   200|\n",
      "|  31.56.96.51|2019-01-22 03:56:16|/image/60844/prod...|   200|\n",
      "|  31.56.96.51|2019-01-22 03:56:16|/image/61474/prod...|   200|\n",
      "|40.77.167.129|2019-01-22 03:56:17|/image/14925/prod...|   200|\n",
      "|  91.99.72.15|2019-01-22 03:56:17|/product/31893/62...|   200|\n",
      "+-------------+-------------------+--------------------+------+\n",
      "only showing top 5 rows\n",
      "\n"
     ]
    }
   ],
   "source": [
    "# converting RDD to DataFrame\n",
    "df = parsed_data.toDF(schema = [\"ip\", \"timestamp\",\"requesturl\",\"status\"])\n",
    "\n",
    "# Show schema\n",
    "df.printSchema()\n",
    "\n",
    "# Show data frame\n",
    "df.show(5,truncate=True)\n",
    "# df.show(truncate=False)"
   ]
  },
  {
   "cell_type": "code",
   "execution_count": 123,
   "metadata": {
    "tags": []
   },
   "outputs": [
    {
     "name": "stdout",
     "output_type": "stream",
     "text": [
      "+-------------+-------------------+--------------------+------+\n",
      "|           ip|          timestamp|          requesturl|status|\n",
      "+-------------+-------------------+--------------------+------+\n",
      "| 54.36.149.41|2019-01-22 03:56:14|/filter/27|13%20%...|   200|\n",
      "|  31.56.96.51|2019-01-22 03:56:16|/image/60844/prod...|   200|\n",
      "|  31.56.96.51|2019-01-22 03:56:16|/image/61474/prod...|   200|\n",
      "|40.77.167.129|2019-01-22 03:56:17|/image/14925/prod...|   200|\n",
      "|  91.99.72.15|2019-01-22 03:56:17|/product/31893/62...|   200|\n",
      "+-------------+-------------------+--------------------+------+\n",
      "only showing top 5 rows\n",
      "\n",
      "+-------------+-------------------+--------------------+------+\n",
      "|           ip|          timestamp|          requesturl|status|\n",
      "+-------------+-------------------+--------------------+------+\n",
      "| 54.36.148.87|2019-01-22 03:56:34|/filter/p65%2Cv1%...|   302|\n",
      "| 5.160.157.20|2019-01-22 03:56:49|     /browse/blu-ray|   301|\n",
      "| 5.160.157.20|2019-01-22 03:56:49|/filter?f=p12129&...|   301|\n",
      "|54.36.148.161|2019-01-22 03:56:50|/filter/p28%2Cv1%...|   302|\n",
      "|66.249.66.194|2019-01-22 03:56:54|/product/20821/44...|   302|\n",
      "+-------------+-------------------+--------------------+------+\n",
      "only showing top 5 rows\n",
      "\n"
     ]
    }
   ],
   "source": [
    "filtered_df = df.filter( (col('status') == 200 ) | (col('status').like('3%')) )\n",
    "filtered_df = filtered_df.filter(~df.requesturl.contains('css') & ~df.requesturl.contains('js'))\n",
    "filtered_df.show(5)\n",
    "# #Checking if the like('3%') worked\n",
    "filtered_df.filter( col('status').like('3%') ).show(5)"
   ]
  },
  {
   "cell_type": "code",
   "execution_count": 124,
   "metadata": {
    "tags": []
   },
   "outputs": [
    {
     "data": {
      "text/plain": [
       "9439664"
      ]
     },
     "execution_count": 124,
     "metadata": {},
     "output_type": "execute_result"
    }
   ],
   "source": [
    "filtered_df.count()"
   ]
  },
  {
   "cell_type": "code",
   "execution_count": 125,
   "metadata": {
    "tags": []
   },
   "outputs": [
    {
     "name": "stdout",
     "output_type": "stream",
     "text": [
      "+------+\n",
      "|status|\n",
      "+------+\n",
      "|   200|\n",
      "|   302|\n",
      "|   304|\n",
      "|   301|\n",
      "+------+\n",
      "\n"
     ]
    }
   ],
   "source": [
    "filtered_df.select('status').distinct().show()"
   ]
  },
  {
   "cell_type": "code",
   "execution_count": 12,
   "metadata": {
    "tags": []
   },
   "outputs": [],
   "source": [
    "# Get a list of IPs (let's call it uniqueIPs) who performed the action of adding product(s) to the basket\n",
    "from pyspark.sql.functions import col\n",
    "\n",
    "# filter the rows with '/basket/add' in 'requesturl' column\n",
    "ip_addbasket = filtered_df.filter(col('requesturl').contains('/basket/add')).select('ip').distinct()"
   ]
  },
  {
   "cell_type": "code",
   "execution_count": 127,
   "metadata": {
    "tags": []
   },
   "outputs": [
    {
     "name": "stdout",
     "output_type": "stream",
     "text": [
      "+---------------+\n",
      "|             ip|\n",
      "+---------------+\n",
      "|  5.117.242.204|\n",
      "| 83.122.120.209|\n",
      "|   89.196.66.66|\n",
      "|  2.181.243.101|\n",
      "|178.252.144.130|\n",
      "|    5.125.13.45|\n",
      "|  5.114.160.181|\n",
      "|    2.191.96.86|\n",
      "|  5.237.115.244|\n",
      "| 188.166.113.28|\n",
      "|  5.114.183.125|\n",
      "|   5.211.134.24|\n",
      "|  204.18.175.72|\n",
      "|   185.30.7.254|\n",
      "| 91.208.165.222|\n",
      "|178.252.166.116|\n",
      "|   5.119.221.47|\n",
      "|  5.121.110.137|\n",
      "| 204.18.119.253|\n",
      "|  5.235.227.104|\n",
      "+---------------+\n",
      "only showing top 20 rows\n",
      "\n"
     ]
    },
    {
     "data": {
      "text/plain": [
       "2304"
      ]
     },
     "execution_count": 127,
     "metadata": {},
     "output_type": "execute_result"
    }
   ],
   "source": [
    "ip_addbasket.show()\n",
    "ip_addbasket.count()"
   ]
  },
  {
   "cell_type": "code",
   "execution_count": 128,
   "metadata": {
    "tags": []
   },
   "outputs": [
    {
     "name": "stdout",
     "output_type": "stream",
     "text": [
      "+------------+-------------------+-------------------------------------------------------------------------------------+------+\n",
      "|ip          |timestamp          |requesturl                                                                           |status|\n",
      "+------------+-------------------+-------------------------------------------------------------------------------------+------+\n",
      "|81.90.144.56|2019-01-22 07:41:48|/browse/home-appliances/%D9%84%D9%88%D8%A7%D8%B2%D9%85-%D8%AE%D8%A7%D9%86%DA%AF%DB%8C|200   |\n",
      "|81.90.144.56|2019-01-22 07:41:50|/image/%7B%7BbasketItem.id%7D%7D?type=productModel&wh=50x50                          |200   |\n",
      "|81.90.144.56|2019-01-22 07:41:51|/image/55/productType/240x180                                                        |200   |\n",
      "|81.90.144.56|2019-01-22 07:41:51|/image/8/productType/240x180                                                         |200   |\n",
      "|81.90.144.56|2019-01-22 07:41:51|/image/18342/productType/240x180                                                     |200   |\n",
      "+------------+-------------------+-------------------------------------------------------------------------------------+------+\n",
      "only showing top 5 rows\n",
      "\n"
     ]
    },
    {
     "data": {
      "text/plain": [
       "1024992"
      ]
     },
     "execution_count": 128,
     "metadata": {},
     "output_type": "execute_result"
    }
   ],
   "source": [
    "# Keep rows only have ips in ip_addbasket\n",
    "add_basket_ips_df = filtered_df.join(ip_addbasket, on='ip', how='inner')\n",
    "add_basket_ips_df.show(5,truncate=False)\n",
    "add_basket_ips_df.count()"
   ]
  },
  {
   "cell_type": "markdown",
   "metadata": {},
   "source": [
    "## Prepare Sequential Data for prefixspan \n",
    "\n",
    "After you get all data in spark and filter out unnecessary records, we want to prepare the sequential data for prefixspan.\n",
    "\n",
    "In this project we define a sequence of events as:\n",
    " \n",
    "> A series of URLs requested by one particular user (a user is identified by the IP address), within one day.\n",
    "e.g., on 26/Jan/2019 a user visited urls at  `/A` then `/B` then at the same timestamp `/C` and `/D`, this will form a sequence as a list of list:\n",
    "\n",
    "```python\n",
    "[ [\"/A\"], [\"/B\"], [\"/C\", \"/D\"] ]\n",
    "```\n",
    "\n",
    "So now with your spark data frame (assuming all irrelevant rows filtered out), let's still call it `df`, you want to:\n",
    "\n",
    "\n",
    "1. Group the dataframe by `(IP, TIMESTAMP)` so actions from same IP and at the same timestamp are grouped together\n",
    "  - now each group contains one or a set of urls which we define as one event of the sequence\n",
    "  - you want to apply an aggregation (`agg`) function to create a **list of URLs** for each group, let's call this new aggregated column `EVENTS` and let's call this aggregated data frame `DF2` (refer to reources listed above and refer to the example code above in `Converting RDD to dataframe` section)\n",
    "2. From `DF2` create a new column called `DATE` which converts the `TIMESTAMP` into a date object so timestamps of the same day have the same values in this column (refer to reources listed above).\n",
    "3. Since `DATE` column round timestamp to date so if you group the data frame by `(IP, DATE)` you will have in  each group a list of `EVENTS` from each user in each day  -- this is exactly the sequence we defined. So after grouping, just create another aggregated column `SEQUENCE` which consists list of `EVENTS` of the group (refer to the example code above in `Converting RDD to dataframe` section)\n",
    "4. Finally you want to print out 30 rows from column `SEQUENCE` to verify you did it right."
   ]
  },
  {
   "cell_type": "markdown",
   "metadata": {
    "tags": []
   },
   "source": [
    "## <font color=red>You code for `Prepare Sequential Data for prefixspan` here </font>"
   ]
  },
  {
   "cell_type": "code",
   "execution_count": 14,
   "metadata": {
    "tags": []
   },
   "outputs": [],
   "source": [
    "from pyspark.sql.functions import collect_list\n",
    "\n",
    "# DF2 = df1mil.groupBy(['IP', 'TIMESTAMP']).agg(collect_list('REQUESTURL').alias('EVENTS'))\n",
    "DF2 = add_basket_ips_df.groupBy(['ip', 'timestamp']).agg(collect_list('requesturl').alias('EVENTS'))\n",
    "\n"
   ]
  },
  {
   "cell_type": "code",
   "execution_count": 130,
   "metadata": {
    "tags": []
   },
   "outputs": [
    {
     "name": "stdout",
     "output_type": "stream",
     "text": [
      "+--------------+-------------------+--------------------------------------------------------------------------------------------------------------------------------------------------------------------------------------------------------------------------------------------+\n",
      "|ip            |timestamp          |EVENTS                                                                                                                                                                                                                                      |\n",
      "+--------------+-------------------+--------------------------------------------------------------------------------------------------------------------------------------------------------------------------------------------------------------------------------------------+\n",
      "|10.139.192.130|2019-01-26 13:03:54|[/filter/b43,p63]                                                                                                                                                                                                                           |\n",
      "|10.139.192.130|2019-01-26 13:03:55|[/image/238/brand, /image/43/brand, /image/40/productTypeType, /image/%7B%7BbasketItem.id%7D%7D?type=productModel&wh=50x50, /image/41/productTypeType, /static/images/search-category-arrow.png, /image/461/productTypeType, /settings/logo]|\n",
      "+--------------+-------------------+--------------------------------------------------------------------------------------------------------------------------------------------------------------------------------------------------------------------------------------------+\n",
      "only showing top 2 rows\n",
      "\n"
     ]
    }
   ],
   "source": [
    "DF2.show(2, truncate=False)"
   ]
  },
  {
   "cell_type": "code",
   "execution_count": 131,
   "metadata": {
    "tags": []
   },
   "outputs": [
    {
     "name": "stdout",
     "output_type": "stream",
     "text": [
      "+--------------+-------------------+--------------------+----------+\n",
      "|            ip|          timestamp|              EVENTS|      DATE|\n",
      "+--------------+-------------------+--------------------+----------+\n",
      "|10.139.192.130|2019-01-26 13:03:54|   [/filter/b43,p63]|2019-01-26|\n",
      "|10.139.192.130|2019-01-26 13:03:55|[/image/238/brand...|2019-01-26|\n",
      "|10.139.192.130|2019-01-26 13:03:56|[/image/39/produc...|2019-01-26|\n",
      "|10.139.192.130|2019-01-26 13:03:57|[/image/3437/prod...|2019-01-26|\n",
      "|10.139.192.130|2019-01-26 13:03:58|[/image/5947/prod...|2019-01-26|\n",
      "+--------------+-------------------+--------------------+----------+\n",
      "only showing top 5 rows\n",
      "\n"
     ]
    }
   ],
   "source": [
    "from pyspark.sql.functions import to_date\n",
    "\n",
    "DF2 = DF2.withColumn('DATE', to_date('timestamp'))\n",
    "\n",
    "DF2.show(5)"
   ]
  },
  {
   "cell_type": "code",
   "execution_count": 16,
   "metadata": {
    "tags": []
   },
   "outputs": [],
   "source": [
    "from pyspark.sql.functions import collect_list\n",
    "\n",
    "# group the dataframe by IP and DATE and aggregate the urls into a list\n",
    "DF3 = DF2.groupBy(['ip', 'DATE']).agg(collect_list('EVENTS').alias('SEQUENCE'))\n"
   ]
  },
  {
   "cell_type": "code",
   "execution_count": 133,
   "metadata": {
    "tags": []
   },
   "outputs": [
    {
     "name": "stdout",
     "output_type": "stream",
     "text": [
      "+--------------+----------+--------------------+\n",
      "|            ip|      DATE|            SEQUENCE|\n",
      "+--------------+----------+--------------------+\n",
      "|10.139.192.130|2019-01-26|[[/filter/b43,p63...|\n",
      "| 10.233.251.23|2019-01-24|[[/filter/b256,p4...|\n",
      "|  10.87.76.147|2019-01-23|[[/browse/air-con...|\n",
      "+--------------+----------+--------------------+\n",
      "only showing top 3 rows\n",
      "\n"
     ]
    }
   ],
   "source": [
    "DF3.show(3)"
   ]
  },
  {
   "cell_type": "code",
   "execution_count": 134,
   "metadata": {
    "collapsed": true,
    "jupyter": {
     "outputs_hidden": true
    },
    "tags": []
   },
   "outputs": [
    {
     "name": "stdout",
     "output_type": "stream",
     "text": [
      "+--------------+----------+---------------------------------------------------------------------------------------------------------------------------------------------------------------------------------------------------------------------------------------------------------------------------------------------------------------------------------------------------------------------------------------------------------------------------------------------------------------------------------------------------------------------------------------------------------------------------------------------------------------------------------------------------------------------------------------------------------------------------------------------------------------------------------------------------------------------------------------------------------------------------------------------------------------------------------------------------------------------------------------------------------------------------------------------------------------------------------------------------------------------------------------------------------------------------------------------------------------------------------------------------------------------------------------------------------------------------------------------------------------------------------------------------------------------------------------------------------------------------------------------------------------------------------------------------------------------------------------------------------------------------------------------------------------------------------------------------------------------------------------------------------------------------------------------------------------------------------------------------------------------------------------------------------------------------------------------------------------------------------------------------------------------------------------------------------------------------------------------------------------------------------------------------------------------------------------------------------------------------------------------------------------------------------------------------------------------------------------------------------------------------------------------------------------------------------------------------------------------------------------------------------------------------------------------------------------------------------------------------------------------------------------------------------------------------------------------------------------------------------------------------------------------------------------------------------------------------------------------------------------------------------------------------------------------------------------------------------------------------------------------------------------------------------------------------------------------------------------------------------------------------------------------------------------------------------------------------------------------------------------------------------------------------------------------------------------------------------------------------------------------------------------------------------------------------------------------------------------------------------------------------------------------------------------------------------------------------------------------------------------------------------------------------------------------------------------------------------------------------------------------------------------------------------------------------------------------------------------------------------------------------------------------------------------------------------------------------------------------------------------------------------------------------------------------------------------------------------------------------------------------------------------------------------------------------------------------------------------------------------------------------------------------------------------------------------------------------------------------------------------------------------------------------------------------------------------------------------------------------------------------------------------------------------------------------------------------------------------------------------------------------------------------------------------------------------------------------------------------------------------------------------------------------------------------------------------------------------------------------------------------------------------------------------------------------------------------------------------------------------------------------------------------------------------------------+\n",
      "|ip            |DATE      |SEQUENCE                                                                                                                                                                                                                                                                                                                                                                                                                                                                                                                                                                                                                                                                                                                                                                                                                                                                                                                                                                                                                                                                                                                                                                                                                                                                                                                                                                                                                                                                                                                                                                                                                                                                                                                                                                                                                                                                                                                                                                                                                                                                                                                                                                                                                                                                                                                                                                                                                                                                                                                                                                                                                                                                                                                                                                                                                                                                                                                                                                                                                                                                                                                                                                                                                                                                                                                                                                                                                                                                                                                                                                                                                                                                                                                                                                                                                                                                                                                                                                                                                                                                                                                                                                                                                                                                                                                                                                                                                                                                                                                                                                                                                                                                                                                                                                                                                                                                                                                                                                                                                                           |\n",
      "+--------------+----------+---------------------------------------------------------------------------------------------------------------------------------------------------------------------------------------------------------------------------------------------------------------------------------------------------------------------------------------------------------------------------------------------------------------------------------------------------------------------------------------------------------------------------------------------------------------------------------------------------------------------------------------------------------------------------------------------------------------------------------------------------------------------------------------------------------------------------------------------------------------------------------------------------------------------------------------------------------------------------------------------------------------------------------------------------------------------------------------------------------------------------------------------------------------------------------------------------------------------------------------------------------------------------------------------------------------------------------------------------------------------------------------------------------------------------------------------------------------------------------------------------------------------------------------------------------------------------------------------------------------------------------------------------------------------------------------------------------------------------------------------------------------------------------------------------------------------------------------------------------------------------------------------------------------------------------------------------------------------------------------------------------------------------------------------------------------------------------------------------------------------------------------------------------------------------------------------------------------------------------------------------------------------------------------------------------------------------------------------------------------------------------------------------------------------------------------------------------------------------------------------------------------------------------------------------------------------------------------------------------------------------------------------------------------------------------------------------------------------------------------------------------------------------------------------------------------------------------------------------------------------------------------------------------------------------------------------------------------------------------------------------------------------------------------------------------------------------------------------------------------------------------------------------------------------------------------------------------------------------------------------------------------------------------------------------------------------------------------------------------------------------------------------------------------------------------------------------------------------------------------------------------------------------------------------------------------------------------------------------------------------------------------------------------------------------------------------------------------------------------------------------------------------------------------------------------------------------------------------------------------------------------------------------------------------------------------------------------------------------------------------------------------------------------------------------------------------------------------------------------------------------------------------------------------------------------------------------------------------------------------------------------------------------------------------------------------------------------------------------------------------------------------------------------------------------------------------------------------------------------------------------------------------------------------------------------------------------------------------------------------------------------------------------------------------------------------------------------------------------------------------------------------------------------------------------------------------------------------------------------------------------------------------------------------------------------------------------------------------------------------------------------------------------------------------------+\n",
      "|10.139.192.130|2019-01-26|[[/filter/b43,p63], [/image/238/brand, /image/43/brand, /image/40/productTypeType, /image/%7B%7BbasketItem.id%7D%7D?type=productModel&wh=50x50, /image/41/productTypeType, /static/images/search-category-arrow.png, /image/461/productTypeType, /settings/logo], [/image/39/productTypeType, /static/images/exists.png, /image/5391/productModel/150x150, /image/58729/productModel/150x150, /image/65427/productModel/150x150, /image/58728/productModel/150x150, /image/56116/productModel/150x150, /image/43669/productModel/150x150, /image/43716/productModel/150x150, /image/5384/productModel/150x150], [/image/3437/productModel/150x150, /image/6079/productModel/150x150, /image/60555/productModel/150x150, /image/56370/productModel/150x150, /image/58727/productModel/150x150, /image/56112/productModel/150x150, /image/65423/productModel/150x150], [/image/5947/productModel/150x150, /image/56356/productModel/150x150, /image/58650/productModel/150x150, /image/58770/productModel/150x150, /image/5390/productModel/150x150, /image/5391/productModel/100x100, /image/3437/productModel/100x100, /image/5390/productModel/100x100], [/image/5384/productModel/100x100, /image/6079/productModel/100x100, /image/5947/productModel/100x100, /image/9814/productModel/100x100, /image/58650/productModel/100x100, /image/6006/productModel/100x100, /image/58729/productModel/100x100, /image/6000/productModel/100x100, /image/6088/productModel/100x100, /image/9783/productModel/100x100, /image/9821/productModel/100x100, /image/9778/productModel/100x100, /image/15027/productModel/100x100, /image/9789/productModel/100x100, /image/15075/productModel/100x100, /image/18470/productModel/100x100, /image/15091/productModel/100x100], [/image/969/article/100x100, /image/534/article/100x100, /static/images/loading.gif, /static/images/icons/btn-search.png, /static/images/guarantees/goodShopping.png, /static/images/guarantees/warranty.png, /static/images/guarantees/bestPrice.png, /static/images/guarantees/fastDelivery.png, /static/images/guarantees/support.png, /static/images/guarantees/pos.png], [/static/images/not-checked.png, /static/images/filter-arrow-down.png, /static/images/checked.png, /static/images/prev.png, /static/images/next.png, /image/8886/specialSale, /static/images/amp/instagram.png, /static/images/amp/telegram.png, /static/images/amp/blog.png, /static/images/arrow-right.png, /static/images/arrow-left.png, /static/images/jcountdown/jcountdown_metal_black.png, /site/alexaGooleAnalitic, /site/enamad], [/static/images/zanbil-kharid.png, /static/images/tracking-bg.png, /static/images/third-party/footer.png], [/static/images/favicon.ico], [/image/777/mainSlide], [/product/2207/5390/%DA%AF%D9%88%D8%B4%DB%8C-%D8%AA%D9%84%D9%81%D9%86-%D8%A8%DB%8C-%D8%B3%DB%8C%D9%85-%D9%BE%D8%A7%D9%86%D8%A7%D8%B3%D9%88%D9%86%DB%8C%DA%A9-%D9%85%D8%AF%D9%84-KX-TG3711], [/image/2207/product/50x50, /image/2207?name=phone-panasonic-kx-tg3711a8be58.jpg&wh=300x300, /static/images/zanbil/Information-Icon.png, /image/61470/productModel/100x100, /image/62193/productModel/100x100, /image/58770/productModel/100x100, /image/64/productType/120x90, /image/60555/productModel/100x100, /settings/logo, /static/images/Icon-Buypage/addToZanbil-box.png, /images/raty/star-on.png, /static/images/zanbil-kharid.png, /static/images/loading.gif, /static/images/raty/star-on.png, /image/get?path=/Image/5(93).jpg], [/site/alexaGooleAnalitic], [/image/2207?name=phone-panasonic-kx-tg3711a8be58.jpg&wh=max], [/static/images/icons/info.png], [/static/images/Icon-Buypage/addToZanbil-box-hover.png], [/basket/alert/5390, /basket/add/5390?addedValues=, /static/images/zanbil-kharid-green.png, /image/5390?type=productModel&wh=50x50], [/comparison/add/2207, /comparison/alert/2207], [/basket/checkout, /settings/logo], [/image/%7B%7BbasketItem.id%7D%7D?type=productModel&wh=50x50, /static/images/favicon.ico, /image/index/5390?type=productModel&wh=100x100], [/province/getProvinceCities?id=1, /site/alexaGooleAnalitic], [/favicon.ico], [/favicon.ico], [/product/2207/5390/%DA%AF%D9%88%D8%B4%DB%8C-%D8%AA%D9%84%D9%81%D9%86-%D8%A8%DB%8C-%D8%B3%DB%8C%D9%85-%D9%BE%D8%A7%D9%86%D8%A7%D8%B3%D9%88%D9%86%DB%8C%DA%A9-%D9%85%D8%AF%D9%84-KX-TG3711], [/image/2207/product/50x50, /static/images/exists.png, /static/images/zanbil/Information-Icon.png, /image/5384/productModel/100x100, /image/61470/productModel/100x100, /settings/logo, /static/images/favicon.ico], [/site/alexaGooleAnalitic], [/favicon.ico], [/image/2207?name=phone-panasonic-kx-tg3711a8be58.jpg&wh=200x200], [/favicon.ico]]                                                                                                                                                                                                                                                                                                                                  |\n",
      "|10.233.251.23 |2019-01-24|[[/filter/b256,p44], [/static/images/loading.gif], [/image/64354/productModel/150x150, /image/%7B%7BbasketItem.id%7D%7D?type=productModel&wh=50x50, /static/images/exists.png, /image/141/brand, /image/259/brand, /image/22/brand, /image/248/brand, /image/11102/productModel/150x150, /image/256/brand, /image/47674/productModel/150x150], [/image/566/mainSlide, /image/240/brand, /image/47666/productModel/150x150, /image/144/brand, /image/11072/productModel/150x150, /settings/logo, /image/46188/productModel/150x150, /image/64769/productModel/150x150], [/image/64351/productModel/150x150, /static/images/arrow-right.png, /static/images/arrow-left.png, /static/images/zanbil-kharid.png], [/image/46117/productModel/150x150, /image/64353/productModel/150x150, /image/11142/productModel/150x150, /image/11127/productModel/150x150, /image/11077/productModel/150x150, /image/11092/productModel/150x150, /static/images/not-exists.png, /image/47676/productModel/150x150, /image/64356/productModel/150x150, /image/47675/productModel/150x150], [/site/alexaGooleAnalitic, /image/47686/productModel/150x150, /image/5544/productModel/100x100, /image/5553/productModel/100x100, /image/5557/productModel/100x100, /image/10481/productModel/100x100, /image/11102/productModel/100x100, /image/11142/productModel/100x100, /image/10558/productModel/100x100, /image/11072/productModel/100x100, /image/10482/productModel/100x100, /image/10484/productModel/100x100, /image/11077/productModel/100x100, /image/11127/productModel/100x100, /image/46188/productModel/100x100, /image/47674/productModel/100x100, /image/46117/productModel/100x100, /image/47666/productModel/100x100], [/image/64354/productModel/100x100, /image/64769/productModel/100x100, /image/61983/productModel/100x100, /image/61976/productModel/100x100, /image/1195/article/100x100, /image/781/article/100x100, /image/17/article/100x100, /static/images/third-party/footer.png, /static/images/amp/instagram.png, /image/16/article/100x100, /static/images/amp/telegram.png, /static/images/amp/blog.png], [/static/images/search-category-arrow.png, /static/images/icons/btn-search.png, /static/images/guarantees/goodShopping.png, /static/images/guarantees/warranty.png, /static/images/guarantees/bestPrice.png, /static/images/guarantees/fastDelivery.png, /static/images/guarantees/support.png, /static/images/guarantees/pos.png, /static/images/not-checked.png, /static/images/filter-arrow-down.png, /static/images/checked.png, /static/images/prev.png, /static/images/next.png], [/static/images/favicon.ico, /image/16827/productTypeMenu], [/product/8688/11142/%D8%A8%D8%AE%D8%A7%D8%B1%DB%8C-%DA%AF%D8%A7%D8%B2%DB%8C-%D8%A8%D8%A7-%D8%AF%D9%88%D8%AF%DA%A9%D8%B4-%D9%86%DB%8C%DA%A9-%DA%A9%D8%A7%D9%84%D8%A7-%D9%85%D8%AF%D9%84-%DA%A9%DB%8C%D9%88%D8%A7%D9%86-KN-16], [/static/images/zanbil/Information-Icon.png, /image/64351/productModel/100x100, /image/43/productType/120x90, /image/8688/product/50x50, /image/42/productType/120x90, /image/8688?name=2008676963_2.jpg&wh=300x300, /image/40/productType/120x90, /image/41/productType/120x90, /settings/logo, /image/8698/productType/120x90, /image/23557/productType/120x90, /static/images/Icon-Buypage/addToZanbil-box.png], [/image/8688?name=2008676963_2.jpg&wh=max, /image/5252/productType/120x90, /images/raty/star-on.png, /site/alexaGooleAnalitic, /static/images/raty/star-on.png], [/static/images/Icon-Buypage/addToZanbil-box-hover.png], [/basket/add/11142?addedValues=, /basket/alert/11142, /static/images/zanbil-kharid-green.png, /image/11142?type=productModel&wh=50x50], [/basket/checkout, /settings/logo, /image/index/11142?type=productModel&wh=100x100], [/province/getProvinceCities?id=1, /site/alexaGooleAnalitic], [/image/8688?name=2008676963_3.jpg&wh=200x200], [/static/images/jquery.msgGrowl/msgGrowl_warning.png, /static/images/jquery.msgGrowl/msgGrowl_close.png], [/basket/storeCustomerInformationWithoutRegistration], [/filter/b256,p44, /image/256/brand, /settings/logo], [/site/alexaGooleAnalitic], [/static/images/filter-loading.gif, /ajaxFilter/b256,p44,b141], [/image/10482/productModel/150x150, /image/139/productTypeType, /image/10484/productModel/150x150, /image/10481/productModel/150x150, /image/140/productTypeType], [/product/33645/64351/%D8%A8%D8%AE%D8%A7%D8%B1%DB%8C-%DA%AF%D8%A7%D8%B2%DB%8C-%D8%A8%D8%A7-%D8%AF%D9%88%D8%AF%DA%A9%D8%B4-%D9%86%DB%8C%DA%A9-%DA%A9%D8%A7%D9%84%D8%A7-%D9%85%D8%AF%D9%84-%D9%85%D9%87%D8%AA%D8%A7%D8%A8-MB-20], [/filter/b256,p44,b141, /settings/logo, /image/248/brand, /image/10635/productModel/150x150, /image/10636/productModel/150x150, /image/10479/productModel/150x150], [/site/alexaGooleAnalitic], [/image/33645?name=mb-20-22.jpg&wh=200x200], [/image/23932?name=1043-2.jpg&wh=200x200], [/image/23932?name=1043-2.jpg&wh=200x200], [/image/23932?name=1043-2.jpg&wh=200x200], [/image/23932?name=1043-2.jpg&wh=200x200]]|\n",
      "|10.87.76.147  |2019-01-23|[[/browse/air-conditioner-split, /static/images/favicon.ico], [/site/alexaGooleAnalitic], [/static/images/guarantees/warranty.png, /static/images/guarantees/goodShopping.png, /static/images/search-category-arrow.png, /static/images/icons/btn-search.png, /static/images/guarantees/support.png, /static/images/guarantees/bestPrice.png, /static/images/guarantees/pos.png, /static/images/guarantees/fastDelivery.png, /static/images/not-checked.png, /static/images/filter-arrow-down.png, /static/images/prev.png, /static/images/arrow-right.png, /static/images/arrow-left.png, /static/images/zanbil-kharid.png, /static/images/loading.gif, /static/images/exists.png, /image/34897/productModel/150x150, /image/61163/productModel/150x150, /image/27320/productModel/150x150, /image/912/mainSlide, /image/61162/productModel/150x150, /image/61214/productModel/150x150, /image/54665/productModel/150x150, /image/55020/productModel/150x150, /image/65233/productModel/150x150, /image/61542/productModel/150x150, /image/61178/productModel/150x150, /image/8544/productModel/150x150, /image/59791/productModel/150x150, /image/63565/productModel/150x150, /image/60971/productModel/150x150, /image/61158/productModel/150x150, /image/20517/productModel/150x150, /image/34870/productModel/150x150, /image/63698/productModel/150x150, /image/64847/productModel/150x150, /image/8544/productModel/100x100, /image/34891/productModel/150x150, /image/7959/productModel/100x100, /image/2132/productModel/100x100, /image/8542/productModel/100x100, /image/8516/productModel/100x100, /image/20517/productModel/100x100, /image/20501/productModel/100x100, /image/20523/productModel/100x100, /image/20505/productModel/100x100, /image/21870/productModel/100x100, /image/27320/productModel/100x100, /image/20525/productModel/100x100, /image/20551/productModel/100x100, /image/27322/productModel/100x100, /image/27336/productModel/100x100, /image/27334/productModel/100x100, /image/34870/productModel/100x100, /image/34897/productModel/100x100, /image/34891/productModel/100x100, /image/34873/productModel/100x100, /static/images/amp/instagram.png, /static/images/third-party/footer.png, /image/299/article/100x100, /image/1138/article/100x100, /image/1153/article/100x100, /static/images/amp/telegram.png, /image/182/article/100x100, /static/images/amp/blog.png, /image/879/brand, /image/217/brand, /image/52/brand, /image/46/brand, /image/105/brand, /image/216/brand, /image/126/brand, /image/1/brand, /image/2/brand, /image/%7B%7BbasketItem.id%7D%7D?type=productModel&wh=50x50, /image/64/productTypeType, /image/60/productTypeType, /settings/logo, /image/166/productTypeType, /image/167/productTypeType], [/product/34028/64847/%DA%A9%D9%88%D9%84%D8%B1-%DA%AF%D8%A7%D8%B2%DB%8C-%D8%A7%D8%B3%D9%BE%D9%84%DB%8C%D8%AA-%D8%B3%D8%A7%D9%85%D8%B3%D9%88%D9%86%DA%AF-%D9%85%D8%AF%D9%84-AR10NSP], [/static/images/Icon-Buypage/addToZanbil-box.png, /static/images/next.png, /static/images/zanbil/Information-Icon.png, /image/34925/productModel/100x100, /image/54210/productModel/100x100, /image/54665/productModel/100x100, /image/60964/productModel/100x100, /image/62756/productModel/100x100, /image/62758/productModel/100x100, /image/62876/productModel/100x100, /image/40/productType/120x90, /image/1/brand, /image/43/productType/120x90, /image/44/productType/120x90, /image/34028/product/50x50, /image/34028?name=34028.jpg&wh=max, /image/34028?name=34028-2.jpg&wh=max, /image/5252/productType/120x90, /image/34028?name=34028-3.jpg&wh=max], [/image/62875/productModel/100x100, /image/8698/productType/120x90, /settings/logo, /image/54212/productModel/100x100, /image/53178/productModel/100x100, /image/34028?name=34028.jpg&wh=300x300, /image/42/productType/120x90, /image/34028?name=34028-3.jpg&wh=300x300, /image/60968/productModel/100x100, /image/34028?name=34028-2.jpg&wh=300x300, /image/23557/productType/120x90, /images/raty/star-on.png, /image/34028?name=34028-3.jpg&wh=50x50, /image/34028?name=34028.jpg&wh=50x50, /image/34028?name=34028-2.jpg&wh=50x50], [/static/images/raty/star-on.png], [/site/alexaGooleAnalitic], [/static/images/Icon-Buypage/addToZanbil-box-hover.png], [/basket/alert/64847, /basket/add/64847?addedValues=, /static/images/zanbil-kharid-green.png, /image/64847?type=productModel&wh=50x50]]                                                                                                                                                                                                                                                                                                                                                                                                                                                                                                                                                                                                      |\n",
      "+--------------+----------+---------------------------------------------------------------------------------------------------------------------------------------------------------------------------------------------------------------------------------------------------------------------------------------------------------------------------------------------------------------------------------------------------------------------------------------------------------------------------------------------------------------------------------------------------------------------------------------------------------------------------------------------------------------------------------------------------------------------------------------------------------------------------------------------------------------------------------------------------------------------------------------------------------------------------------------------------------------------------------------------------------------------------------------------------------------------------------------------------------------------------------------------------------------------------------------------------------------------------------------------------------------------------------------------------------------------------------------------------------------------------------------------------------------------------------------------------------------------------------------------------------------------------------------------------------------------------------------------------------------------------------------------------------------------------------------------------------------------------------------------------------------------------------------------------------------------------------------------------------------------------------------------------------------------------------------------------------------------------------------------------------------------------------------------------------------------------------------------------------------------------------------------------------------------------------------------------------------------------------------------------------------------------------------------------------------------------------------------------------------------------------------------------------------------------------------------------------------------------------------------------------------------------------------------------------------------------------------------------------------------------------------------------------------------------------------------------------------------------------------------------------------------------------------------------------------------------------------------------------------------------------------------------------------------------------------------------------------------------------------------------------------------------------------------------------------------------------------------------------------------------------------------------------------------------------------------------------------------------------------------------------------------------------------------------------------------------------------------------------------------------------------------------------------------------------------------------------------------------------------------------------------------------------------------------------------------------------------------------------------------------------------------------------------------------------------------------------------------------------------------------------------------------------------------------------------------------------------------------------------------------------------------------------------------------------------------------------------------------------------------------------------------------------------------------------------------------------------------------------------------------------------------------------------------------------------------------------------------------------------------------------------------------------------------------------------------------------------------------------------------------------------------------------------------------------------------------------------------------------------------------------------------------------------------------------------------------------------------------------------------------------------------------------------------------------------------------------------------------------------------------------------------------------------------------------------------------------------------------------------------------------------------------------------------------------------------------------------------------------------------------------------------------------------------------+\n",
      "only showing top 3 rows\n",
      "\n"
     ]
    }
   ],
   "source": [
    "DF3.show(3,truncate=False)"
   ]
  },
  {
   "cell_type": "code",
   "execution_count": 20,
   "metadata": {
    "tags": []
   },
   "outputs": [
    {
     "name": "stdout",
     "output_type": "stream",
     "text": [
      "+--------------------+\n",
      "|            SEQUENCE|\n",
      "+--------------------+\n",
      "|[[/filter/b43,p63...|\n",
      "|[[/filter/b256,p4...|\n",
      "|[[/browse/air-con...|\n",
      "|[[/image/33968?na...|\n",
      "|[[/image/33980?na...|\n",
      "|[[/filter/b261], ...|\n",
      "|[[/], [/settings/...|\n",
      "|[[/browse/Screen-...|\n",
      "|[[/], [/, /image/...|\n",
      "|[[/m/article/618/...|\n",
      "|[[/basket/add/563...|\n",
      "|[[/m/browse/washi...|\n",
      "|[[/product/33596/...|\n",
      "|[[/product/32446/...|\n",
      "|[[/m/browse/appli...|\n",
      "|[[/browse/dishwas...|\n",
      "|[[/product/16721/...|\n",
      "|[[/amp-helper-fra...|\n",
      "|[[/go/CYWO], [/go...|\n",
      "|[[/image/47987/pr...|\n",
      "|[[/amp-helper-fra...|\n",
      "|[[/image/32172?na...|\n",
      "|[[/filter/b36,p5]...|\n",
      "|[[/product/34286/...|\n",
      "|[[/amp-helper-fra...|\n",
      "|[[/m/product/2933...|\n",
      "|[[/?utm_campaign=...|\n",
      "|[[/product/33953/...|\n",
      "|[[/basket/checkou...|\n",
      "|[[/settings/logo]...|\n",
      "+--------------------+\n",
      "only showing top 30 rows\n",
      "\n"
     ]
    }
   ],
   "source": [
    "from pyspark.sql.functions import col\n",
    "\n",
    "# DF3.select(\"SEQUENCE\").show(30, truncate=False)\n",
    "DF3.select(\"SEQUENCE\").show(30)\n",
    "\n"
   ]
  },
  {
   "cell_type": "code",
   "execution_count": 136,
   "metadata": {
    "tags": []
   },
   "outputs": [
    {
     "data": {
      "text/plain": [
       "3167"
      ]
     },
     "execution_count": 136,
     "metadata": {},
     "output_type": "execute_result"
    }
   ],
   "source": [
    "DF3.count()"
   ]
  },
  {
   "cell_type": "markdown",
   "metadata": {},
   "source": [
    "## Show time\n",
    "\n",
    "Now you want to use spark library for prefixspan to mine the sequence data. This is just a simple call:\n",
    "https://spark.apache.org/docs/latest/api/python//reference/api/pyspark.ml.fpm.PrefixSpan.html\n",
    "\n",
    "- Note default sequence column in the input data frame is `sequence`, you can change that to match your data frame:\n",
    "```python\n",
    "prefixSpan.setSequenceCol('SEQUENCE')\n",
    "```\n",
    "- you want to play with `MinSupport` and `MaxPatternLength` in order to get meaningful patterns. Start with higher `MinSupport` value (0.5 is a really high value but you can start with it) and lower `MaxPatternLength` (5 is a good start) to speed up your test run.\n",
    "\n",
    "- You want to write a summary about your observed patterns in the output."
   ]
  },
  {
   "cell_type": "markdown",
   "metadata": {},
   "source": [
    "## <font color=red>You code for doing prefixspan here </font>"
   ]
  },
  {
   "cell_type": "code",
   "execution_count": 137,
   "metadata": {
    "tags": []
   },
   "outputs": [
    {
     "name": "stdout",
     "output_type": "stream",
     "text": [
      "+--------------------------------------------------------------------------------------------------------------------+----+\n",
      "|sequence                                                                                                            |freq|\n",
      "+--------------------------------------------------------------------------------------------------------------------+----+\n",
      "|[[/basket/checkout]]                                                                                                |1639|\n",
      "|[[/basket/view]]                                                                                                    |1617|\n",
      "|[[/favicon.ico]]                                                                                                    |1603|\n",
      "|[[/settings/logo]]                                                                                                  |2931|\n",
      "|[[/settings/logo], [/basket/checkout]]                                                                              |1633|\n",
      "|[[/settings/logo], [/settings/logo]]                                                                                |2750|\n",
      "|[[/settings/logo], [/settings/logo], [/settings/logo]]                                                              |2547|\n",
      "|[[/settings/logo], [/settings/logo], [/settings/logo], [/settings/logo]]                                            |2319|\n",
      "|[[/settings/logo], [/settings/logo], [/settings/logo], [/settings/logo], [/settings/logo]]                          |2101|\n",
      "|[[/settings/logo], [/static/images/amp/blog.png]]                                                                   |1944|\n",
      "|[[/settings/logo], [/static/images/amp/blog.png], [/settings/logo]]                                                 |1814|\n",
      "|[[/settings/logo], [/static/images/amp/blog.png], [/settings/logo], [/settings/logo]]                               |1666|\n",
      "|[[/settings/logo], [/static/images/amp/instagram.png]]                                                              |1938|\n",
      "|[[/settings/logo], [/static/images/amp/instagram.png], [/settings/logo]]                                            |1816|\n",
      "|[[/settings/logo], [/static/images/amp/instagram.png], [/settings/logo], [/settings/logo]]                          |1668|\n",
      "|[[/settings/logo], [/static/images/amp/instagram.png, /static/images/amp/blog.png]]                                 |1693|\n",
      "|[[/settings/logo], [/static/images/amp/instagram.png, /static/images/amp/telegram.png]]                             |1766|\n",
      "|[[/settings/logo], [/static/images/amp/instagram.png, /static/images/amp/telegram.png], [/settings/logo]]           |1650|\n",
      "|[[/settings/logo], [/static/images/amp/instagram.png, /static/images/amp/telegram.png, /static/images/amp/blog.png]]|1676|\n",
      "|[[/settings/logo], [/static/images/amp/telegram.png]]                                                               |1944|\n",
      "+--------------------------------------------------------------------------------------------------------------------+----+\n",
      "only showing top 20 rows\n",
      "\n"
     ]
    }
   ],
   "source": [
    "from pyspark.ml.fpm import PrefixSpan\n",
    "from pyspark.sql import Row\n",
    "\n",
    "prefixSpan = PrefixSpan()\n",
    "prefixSpan.getMaxLocalProjDBSize()\n",
    "prefixSpan.setSequenceCol('SEQUENCE')\n",
    "prefixSpan.getSequenceCol()\n",
    "\n",
    "prefixSpan.setMinSupport(0.5)\n",
    "\n",
    "prefixSpan.setMaxPatternLength(5)\n",
    "\n",
    "prefixSpan.findFrequentSequentialPatterns(DF3).sort(\"SEQUENCE\").show(truncate=False)"
   ]
  },
  {
   "cell_type": "code",
   "execution_count": 4,
   "metadata": {
    "tags": []
   },
   "outputs": [],
   "source": [
    "from pyspark.ml.fpm import PrefixSpan\n",
    "from pyspark.sql import Row"
   ]
  },
  {
   "cell_type": "code",
   "execution_count": 18,
   "metadata": {
    "tags": []
   },
   "outputs": [
    {
     "name": "stdout",
     "output_type": "stream",
     "text": [
      "+------------------------------------------------------------------------------------------------------------------------------------------------------------------------------------------------------------------------------------------------------------+----+\n",
      "|sequence                                                                                                                                                                                                                                                    |freq|\n",
      "+------------------------------------------------------------------------------------------------------------------------------------------------------------------------------------------------------------------------------------------------------------+----+\n",
      "|[[/basket/checkout]]                                                                                                                                                                                                                                        |1639|\n",
      "|[[/basket/checkout], [/settings/logo]]                                                                                                                                                                                                                      |1546|\n",
      "|[[/basket/checkout], [/settings/logo], [/settings/logo]]                                                                                                                                                                                                    |1320|\n",
      "|[[/basket/checkout], [/settings/logo], [/settings/logo], [/settings/logo]]                                                                                                                                                                                  |1140|\n",
      "|[[/basket/checkout], [/settings/logo], [/settings/logo], [/settings/logo], [/settings/logo]]                                                                                                                                                                |974 |\n",
      "|[[/basket/view]]                                                                                                                                                                                                                                            |1617|\n",
      "|[[/basket/view], [/basket/checkout]]                                                                                                                                                                                                                        |989 |\n",
      "|[[/basket/view], [/basket/checkout], [/settings/logo]]                                                                                                                                                                                                      |966 |\n",
      "|[[/basket/view], [/settings/logo]]                                                                                                                                                                                                                          |1578|\n",
      "|[[/basket/view], [/settings/logo], [/settings/logo]]                                                                                                                                                                                                        |1387|\n",
      "|[[/basket/view], [/settings/logo], [/settings/logo], [/settings/logo]]                                                                                                                                                                                      |1166|\n",
      "|[[/basket/view], [/settings/logo], [/settings/logo], [/settings/logo], [/settings/logo]]                                                                                                                                                                    |1004|\n",
      "|[[/favicon.ico]]                                                                                                                                                                                                                                            |1603|\n",
      "|[[/favicon.ico], [/basket/view]]                                                                                                                                                                                                                            |1038|\n",
      "|[[/favicon.ico], [/basket/view], [/settings/logo]]                                                                                                                                                                                                          |1013|\n",
      "|[[/favicon.ico], [/settings/logo]]                                                                                                                                                                                                                          |1451|\n",
      "|[[/favicon.ico], [/settings/logo], [/settings/logo]]                                                                                                                                                                                                        |1339|\n",
      "|[[/favicon.ico], [/settings/logo], [/settings/logo], [/settings/logo]]                                                                                                                                                                                      |1206|\n",
      "|[[/favicon.ico], [/settings/logo], [/settings/logo], [/settings/logo], [/settings/logo]]                                                                                                                                                                    |1073|\n",
      "|[[/favicon.ico], [/settings/logo], [/settings/logo], [/settings/logo], [/settings/logo], [/settings/logo]]                                                                                                                                                  |983 |\n",
      "|[[/favicon.ico], [/static/images/amp/blog.png]]                                                                                                                                                                                                             |1090|\n",
      "|[[/favicon.ico], [/static/images/amp/blog.png], [/settings/logo]]                                                                                                                                                                                           |1029|\n",
      "|[[/favicon.ico], [/static/images/amp/instagram.png]]                                                                                                                                                                                                        |1096|\n",
      "|[[/favicon.ico], [/static/images/amp/instagram.png], [/settings/logo]]                                                                                                                                                                                      |1031|\n",
      "|[[/favicon.ico], [/static/images/amp/instagram.png, /static/images/amp/blog.png]]                                                                                                                                                                           |975 |\n",
      "|[[/favicon.ico], [/static/images/amp/instagram.png, /static/images/amp/telegram.png]]                                                                                                                                                                       |1007|\n",
      "|[[/favicon.ico], [/static/images/amp/instagram.png, /static/images/amp/telegram.png], [/settings/logo]]                                                                                                                                                     |951 |\n",
      "|[[/favicon.ico], [/static/images/amp/instagram.png, /static/images/amp/telegram.png, /static/images/amp/blog.png]]                                                                                                                                          |970 |\n",
      "|[[/favicon.ico], [/static/images/amp/telegram.png]]                                                                                                                                                                                                         |1089|\n",
      "|[[/favicon.ico], [/static/images/amp/telegram.png], [/settings/logo]]                                                                                                                                                                                       |1032|\n",
      "|[[/favicon.ico], [/static/images/amp/telegram.png, /static/images/amp/blog.png]]                                                                                                                                                                            |1046|\n",
      "|[[/favicon.ico], [/static/images/amp/telegram.png, /static/images/amp/blog.png], [/settings/logo]]                                                                                                                                                          |989 |\n",
      "|[[/favicon.ico], [/static/images/amp/third-party/footer-mobile.png]]                                                                                                                                                                                        |962 |\n",
      "|[[/image/%7B%7BbasketItem.id%7D%7D?type=productModel&wh=50x50]]                                                                                                                                                                                             |971 |\n",
      "|[[/image/%7B%7BbasketItem.id%7D%7D?type=productModel&wh=50x50], [/site/alexaGooleAnalitic]]                                                                                                                                                                 |959 |\n",
      "|[[/image/1/brand]]                                                                                                                                                                                                                                          |981 |\n",
      "|[[/image/2/brand]]                                                                                                                                                                                                                                          |973 |\n",
      "|[[/settings/logo]]                                                                                                                                                                                                                                          |2931|\n",
      "|[[/settings/logo], [/basket/checkout]]                                                                                                                                                                                                                      |1633|\n",
      "|[[/settings/logo], [/basket/checkout], [/settings/logo]]                                                                                                                                                                                                    |1543|\n",
      "|[[/settings/logo], [/basket/checkout], [/settings/logo], [/settings/logo]]                                                                                                                                                                                  |1316|\n",
      "|[[/settings/logo], [/basket/checkout], [/settings/logo], [/settings/logo], [/settings/logo]]                                                                                                                                                                |1137|\n",
      "|[[/settings/logo], [/basket/checkout], [/settings/logo], [/settings/logo], [/settings/logo], [/settings/logo]]                                                                                                                                              |972 |\n",
      "|[[/settings/logo], [/basket/view]]                                                                                                                                                                                                                          |1514|\n",
      "|[[/settings/logo], [/basket/view], [/settings/logo]]                                                                                                                                                                                                        |1480|\n",
      "|[[/settings/logo], [/basket/view], [/settings/logo], [/settings/logo]]                                                                                                                                                                                      |1321|\n",
      "|[[/settings/logo], [/basket/view], [/settings/logo], [/settings/logo], [/settings/logo]]                                                                                                                                                                    |1126|\n",
      "|[[/settings/logo], [/basket/view], [/settings/logo], [/settings/logo], [/settings/logo], [/settings/logo]]                                                                                                                                                  |970 |\n",
      "|[[/settings/logo], [/favicon.ico]]                                                                                                                                                                                                                          |1446|\n",
      "|[[/settings/logo], [/favicon.ico], [/settings/logo]]                                                                                                                                                                                                        |1315|\n",
      "|[[/settings/logo], [/favicon.ico], [/settings/logo], [/settings/logo]]                                                                                                                                                                                      |1214|\n",
      "|[[/settings/logo], [/favicon.ico], [/settings/logo], [/settings/logo], [/settings/logo]]                                                                                                                                                                    |1093|\n",
      "|[[/settings/logo], [/favicon.ico], [/settings/logo], [/settings/logo], [/settings/logo], [/settings/logo]]                                                                                                                                                  |979 |\n",
      "|[[/settings/logo], [/favicon.ico], [/static/images/amp/blog.png]]                                                                                                                                                                                           |972 |\n",
      "|[[/settings/logo], [/favicon.ico], [/static/images/amp/instagram.png]]                                                                                                                                                                                      |979 |\n",
      "|[[/settings/logo], [/favicon.ico], [/static/images/amp/telegram.png]]                                                                                                                                                                                       |971 |\n",
      "|[[/settings/logo], [/settings/logo]]                                                                                                                                                                                                                        |2750|\n",
      "|[[/settings/logo], [/settings/logo], [/basket/checkout]]                                                                                                                                                                                                    |1533|\n",
      "|[[/settings/logo], [/settings/logo], [/basket/checkout], [/settings/logo]]                                                                                                                                                                                  |1460|\n",
      "|[[/settings/logo], [/settings/logo], [/basket/checkout], [/settings/logo], [/settings/logo]]                                                                                                                                                                |1261|\n",
      "|[[/settings/logo], [/settings/logo], [/basket/checkout], [/settings/logo], [/settings/logo], [/settings/logo]]                                                                                                                                              |1091|\n",
      "|[[/settings/logo], [/settings/logo], [/basket/view]]                                                                                                                                                                                                        |1246|\n",
      "|[[/settings/logo], [/settings/logo], [/basket/view], [/settings/logo]]                                                                                                                                                                                      |1212|\n",
      "|[[/settings/logo], [/settings/logo], [/basket/view], [/settings/logo], [/settings/logo]]                                                                                                                                                                    |1094|\n",
      "|[[/settings/logo], [/settings/logo], [/basket/view], [/settings/logo], [/settings/logo], [/settings/logo]]                                                                                                                                                  |962 |\n",
      "|[[/settings/logo], [/settings/logo], [/settings/logo]]                                                                                                                                                                                                      |2547|\n",
      "|[[/settings/logo], [/settings/logo], [/settings/logo], [/basket/checkout]]                                                                                                                                                                                  |1304|\n",
      "|[[/settings/logo], [/settings/logo], [/settings/logo], [/basket/checkout], [/settings/logo]]                                                                                                                                                                |1245|\n",
      "|[[/settings/logo], [/settings/logo], [/settings/logo], [/basket/checkout], [/settings/logo], [/settings/logo]]                                                                                                                                              |1097|\n",
      "|[[/settings/logo], [/settings/logo], [/settings/logo], [/basket/checkout], [/settings/logo], [/settings/logo], [/settings/logo]]                                                                                                                            |964 |\n",
      "|[[/settings/logo], [/settings/logo], [/settings/logo], [/basket/view]]                                                                                                                                                                                      |1078|\n",
      "|[[/settings/logo], [/settings/logo], [/settings/logo], [/basket/view], [/settings/logo]]                                                                                                                                                                    |1045|\n",
      "|[[/settings/logo], [/settings/logo], [/settings/logo], [/basket/view], [/settings/logo], [/settings/logo]]                                                                                                                                                  |956 |\n",
      "|[[/settings/logo], [/settings/logo], [/settings/logo], [/settings/logo]]                                                                                                                                                                                    |2319|\n",
      "|[[/settings/logo], [/settings/logo], [/settings/logo], [/settings/logo], [/basket/checkout]]                                                                                                                                                                |1162|\n",
      "|[[/settings/logo], [/settings/logo], [/settings/logo], [/settings/logo], [/basket/checkout], [/settings/logo]]                                                                                                                                              |1114|\n",
      "|[[/settings/logo], [/settings/logo], [/settings/logo], [/settings/logo], [/basket/checkout], [/settings/logo], [/settings/logo]]                                                                                                                            |995 |\n",
      "|[[/settings/logo], [/settings/logo], [/settings/logo], [/settings/logo], [/settings/logo]]                                                                                                                                                                  |2101|\n",
      "|[[/settings/logo], [/settings/logo], [/settings/logo], [/settings/logo], [/settings/logo], [/basket/checkout]]                                                                                                                                              |1028|\n",
      "|[[/settings/logo], [/settings/logo], [/settings/logo], [/settings/logo], [/settings/logo], [/basket/checkout], [/settings/logo]]                                                                                                                            |990 |\n",
      "|[[/settings/logo], [/settings/logo], [/settings/logo], [/settings/logo], [/settings/logo], [/settings/logo]]                                                                                                                                                |1907|\n",
      "|[[/settings/logo], [/settings/logo], [/settings/logo], [/settings/logo], [/settings/logo], [/settings/logo], [/settings/logo]]                                                                                                                              |1742|\n",
      "|[[/settings/logo], [/settings/logo], [/settings/logo], [/settings/logo], [/settings/logo], [/settings/logo], [/settings/logo], [/settings/logo]]                                                                                                            |1611|\n",
      "|[[/settings/logo], [/settings/logo], [/settings/logo], [/settings/logo], [/settings/logo], [/settings/logo], [/settings/logo], [/settings/logo], [/settings/logo]]                                                                                          |1472|\n",
      "|[[/settings/logo], [/settings/logo], [/settings/logo], [/settings/logo], [/settings/logo], [/settings/logo], [/settings/logo], [/settings/logo], [/settings/logo], [/settings/logo]]                                                                        |1361|\n",
      "|[[/settings/logo], [/settings/logo], [/settings/logo], [/settings/logo], [/settings/logo], [/settings/logo], [/settings/logo], [/settings/logo], [/settings/logo], [/settings/logo], [/settings/logo]]                                                      |1253|\n",
      "|[[/settings/logo], [/settings/logo], [/settings/logo], [/settings/logo], [/settings/logo], [/settings/logo], [/settings/logo], [/settings/logo], [/settings/logo], [/settings/logo], [/settings/logo], [/settings/logo]]                                    |1167|\n",
      "|[[/settings/logo], [/settings/logo], [/settings/logo], [/settings/logo], [/settings/logo], [/settings/logo], [/settings/logo], [/settings/logo], [/settings/logo], [/settings/logo], [/settings/logo], [/settings/logo], [/settings/logo]]                  |1082|\n",
      "|[[/settings/logo], [/settings/logo], [/settings/logo], [/settings/logo], [/settings/logo], [/settings/logo], [/settings/logo], [/settings/logo], [/settings/logo], [/settings/logo], [/settings/logo], [/settings/logo], [/settings/logo], [/settings/logo]]|1018|\n",
      "|[[/settings/logo], [/settings/logo], [/settings/logo], [/site/alexaGooleAnalitic]]                                                                                                                                                                          |989 |\n",
      "|[[/settings/logo], [/settings/logo], [/site/alexaGooleAnalitic]]                                                                                                                                                                                            |1090|\n",
      "|[[/settings/logo], [/settings/logo], [/site/alexaGooleAnalitic], [/settings/logo]]                                                                                                                                                                          |996 |\n",
      "|[[/settings/logo], [/settings/logo], [/site/alexaGooleAnalitic], [/settings/logo], [/site/alexaGooleAnalitic]]                                                                                                                                              |966 |\n",
      "|[[/settings/logo], [/settings/logo], [/site/alexaGooleAnalitic], [/site/alexaGooleAnalitic]]                                                                                                                                                                |979 |\n",
      "|[[/settings/logo], [/site/alexaGooleAnalitic]]                                                                                                                                                                                                              |1199|\n",
      "|[[/settings/logo], [/site/alexaGooleAnalitic], [/settings/logo]]                                                                                                                                                                                            |1098|\n",
      "|[[/settings/logo], [/site/alexaGooleAnalitic], [/settings/logo], [/settings/logo]]                                                                                                                                                                          |1007|\n",
      "|[[/settings/logo], [/site/alexaGooleAnalitic], [/settings/logo], [/settings/logo], [/site/alexaGooleAnalitic]]                                                                                                                                              |960 |\n",
      "|[[/settings/logo], [/site/alexaGooleAnalitic], [/settings/logo], [/site/alexaGooleAnalitic]]                                                                                                                                                                |1055|\n",
      "|[[/settings/logo], [/site/alexaGooleAnalitic], [/settings/logo], [/site/alexaGooleAnalitic], [/settings/logo]]                                                                                                                                              |966 |\n",
      "+------------------------------------------------------------------------------------------------------------------------------------------------------------------------------------------------------------------------------------------------------------+----+\n",
      "only showing top 100 rows\n",
      "\n"
     ]
    }
   ],
   "source": [
    "prefixSpan = PrefixSpan()\n",
    "prefixSpan.getMaxLocalProjDBSize()\n",
    "prefixSpan.setSequenceCol('SEQUENCE')\n",
    "prefixSpan.getSequenceCol()\n",
    "\n",
    "prefixSpan.setMinSupport(0.3)\n",
    "\n",
    "prefixSpan.setMaxPatternLength(30)\n",
    "\n",
    "prefixSpan.findFrequentSequentialPatterns(DF3).sort(\"SEQUENCE\").show(100,truncate=False)"
   ]
  },
  {
   "cell_type": "code",
   "execution_count": 19,
   "metadata": {
    "tags": []
   },
   "outputs": [
    {
     "name": "stdout",
     "output_type": "stream",
     "text": [
      "+-------------------------------------------------------------------------------------------------------------------------------------------------------------------------------------------------------------------------------------------------------+----+\n",
      "|sequence                                                                                                                                                                                                                                               |freq|\n",
      "+-------------------------------------------------------------------------------------------------------------------------------------------------------------------------------------------------------------------------------------------------------+----+\n",
      "|[[/]]                                                                                                                                                                                                                                                  |894 |\n",
      "|[[/], [/image/11640/productType/240x180]]                                                                                                                                                                                                              |640 |\n",
      "|[[/], [/image/11671/productType/240x180]]                                                                                                                                                                                                              |642 |\n",
      "|[[/], [/image/11893/productType/240x180]]                                                                                                                                                                                                              |639 |\n",
      "|[[/], [/image/33536/productType/240x180]]                                                                                                                                                                                                              |641 |\n",
      "|[[/], [/image/38/productType/240x180]]                                                                                                                                                                                                                 |634 |\n",
      "|[[/], [/image/51/productType/240x180]]                                                                                                                                                                                                                 |637 |\n",
      "|[[/], [/image/5506/productType/240x180]]                                                                                                                                                                                                               |637 |\n",
      "|[[/], [/image/5935/productType/240x180]]                                                                                                                                                                                                               |636 |\n",
      "|[[/], [/image/6213/productType/240x180]]                                                                                                                                                                                                               |641 |\n",
      "|[[/], [/settings/logo]]                                                                                                                                                                                                                                |885 |\n",
      "|[[/], [/settings/logo], [/settings/logo]]                                                                                                                                                                                                              |860 |\n",
      "|[[/], [/settings/logo], [/settings/logo], [/settings/logo]]                                                                                                                                                                                            |815 |\n",
      "|[[/], [/settings/logo], [/settings/logo], [/settings/logo], [/settings/logo]]                                                                                                                                                                          |773 |\n",
      "|[[/], [/settings/logo], [/settings/logo], [/settings/logo], [/settings/logo], [/settings/logo]]                                                                                                                                                        |727 |\n",
      "|[[/], [/settings/logo], [/settings/logo], [/settings/logo], [/settings/logo], [/settings/logo], [/settings/logo]]                                                                                                                                      |678 |\n",
      "|[[/], [/settings/logo], [/settings/logo], [/settings/logo], [/settings/logo], [/settings/logo], [/settings/logo], [/settings/logo]]                                                                                                                    |644 |\n",
      "|[[/amp-helper-frame.html?appId=a624a1c1-0c93-466a-a546-e146710f97e6&parentOrigin=https://www.zanbil.ir]]                                                                                                                                               |878 |\n",
      "|[[/amp-helper-frame.html?appId=a624a1c1-0c93-466a-a546-e146710f97e6&parentOrigin=https://www.zanbil.ir], [/basket/view]]                                                                                                                               |723 |\n",
      "|[[/amp-helper-frame.html?appId=a624a1c1-0c93-466a-a546-e146710f97e6&parentOrigin=https://www.zanbil.ir], [/basket/view], [/settings/logo]]                                                                                                             |714 |\n",
      "|[[/amp-helper-frame.html?appId=a624a1c1-0c93-466a-a546-e146710f97e6&parentOrigin=https://www.zanbil.ir], [/favicon.ico]]                                                                                                                               |752 |\n",
      "|[[/amp-helper-frame.html?appId=a624a1c1-0c93-466a-a546-e146710f97e6&parentOrigin=https://www.zanbil.ir], [/favicon.ico], [/settings/logo]]                                                                                                             |710 |\n",
      "|[[/amp-helper-frame.html?appId=a624a1c1-0c93-466a-a546-e146710f97e6&parentOrigin=https://www.zanbil.ir], [/favicon.ico], [/settings/logo], [/settings/logo]]                                                                                           |660 |\n",
      "|[[/amp-helper-frame.html?appId=a624a1c1-0c93-466a-a546-e146710f97e6&parentOrigin=https://www.zanbil.ir], [/settings/logo]]                                                                                                                             |826 |\n",
      "|[[/amp-helper-frame.html?appId=a624a1c1-0c93-466a-a546-e146710f97e6&parentOrigin=https://www.zanbil.ir], [/settings/logo], [/settings/logo]]                                                                                                           |766 |\n",
      "|[[/amp-helper-frame.html?appId=a624a1c1-0c93-466a-a546-e146710f97e6&parentOrigin=https://www.zanbil.ir], [/settings/logo], [/settings/logo], [/settings/logo]]                                                                                         |682 |\n",
      "|[[/amp-helper-frame.html?appId=a624a1c1-0c93-466a-a546-e146710f97e6&parentOrigin=https://www.zanbil.ir], [/static/images/amp/blog.png]]                                                                                                                |727 |\n",
      "|[[/amp-helper-frame.html?appId=a624a1c1-0c93-466a-a546-e146710f97e6&parentOrigin=https://www.zanbil.ir], [/static/images/amp/blog.png], [/settings/logo]]                                                                                              |693 |\n",
      "|[[/amp-helper-frame.html?appId=a624a1c1-0c93-466a-a546-e146710f97e6&parentOrigin=https://www.zanbil.ir], [/static/images/amp/blog.png], [/settings/logo], [/settings/logo]]                                                                            |636 |\n",
      "|[[/amp-helper-frame.html?appId=a624a1c1-0c93-466a-a546-e146710f97e6&parentOrigin=https://www.zanbil.ir], [/static/images/amp/instagram.png]]                                                                                                           |725 |\n",
      "|[[/amp-helper-frame.html?appId=a624a1c1-0c93-466a-a546-e146710f97e6&parentOrigin=https://www.zanbil.ir], [/static/images/amp/instagram.png], [/settings/logo]]                                                                                         |691 |\n",
      "|[[/amp-helper-frame.html?appId=a624a1c1-0c93-466a-a546-e146710f97e6&parentOrigin=https://www.zanbil.ir], [/static/images/amp/instagram.png], [/settings/logo], [/settings/logo]]                                                                       |635 |\n",
      "|[[/amp-helper-frame.html?appId=a624a1c1-0c93-466a-a546-e146710f97e6&parentOrigin=https://www.zanbil.ir], [/static/images/amp/instagram.png, /static/images/amp/blog.png]]                                                                              |655 |\n",
      "|[[/amp-helper-frame.html?appId=a624a1c1-0c93-466a-a546-e146710f97e6&parentOrigin=https://www.zanbil.ir], [/static/images/amp/instagram.png, /static/images/amp/telegram.png]]                                                                          |673 |\n",
      "|[[/amp-helper-frame.html?appId=a624a1c1-0c93-466a-a546-e146710f97e6&parentOrigin=https://www.zanbil.ir], [/static/images/amp/instagram.png, /static/images/amp/telegram.png], [/settings/logo]]                                                        |640 |\n",
      "|[[/amp-helper-frame.html?appId=a624a1c1-0c93-466a-a546-e146710f97e6&parentOrigin=https://www.zanbil.ir], [/static/images/amp/instagram.png, /static/images/amp/telegram.png, /static/images/amp/blog.png]]                                             |653 |\n",
      "|[[/amp-helper-frame.html?appId=a624a1c1-0c93-466a-a546-e146710f97e6&parentOrigin=https://www.zanbil.ir], [/static/images/amp/telegram.png]]                                                                                                            |729 |\n",
      "|[[/amp-helper-frame.html?appId=a624a1c1-0c93-466a-a546-e146710f97e6&parentOrigin=https://www.zanbil.ir], [/static/images/amp/telegram.png], [/settings/logo]]                                                                                          |695 |\n",
      "|[[/amp-helper-frame.html?appId=a624a1c1-0c93-466a-a546-e146710f97e6&parentOrigin=https://www.zanbil.ir], [/static/images/amp/telegram.png], [/settings/logo], [/settings/logo]]                                                                        |638 |\n",
      "|[[/amp-helper-frame.html?appId=a624a1c1-0c93-466a-a546-e146710f97e6&parentOrigin=https://www.zanbil.ir], [/static/images/amp/telegram.png, /static/images/amp/blog.png]]                                                                               |704 |\n",
      "|[[/amp-helper-frame.html?appId=a624a1c1-0c93-466a-a546-e146710f97e6&parentOrigin=https://www.zanbil.ir], [/static/images/amp/telegram.png, /static/images/amp/blog.png], [/settings/logo]]                                                             |673 |\n",
      "|[[/amp-helper-frame.html?appId=a624a1c1-0c93-466a-a546-e146710f97e6&parentOrigin=https://www.zanbil.ir], [/static/images/amp/third-party/footer-mobile.png]]                                                                                           |738 |\n",
      "|[[/amp-helper-frame.html?appId=a624a1c1-0c93-466a-a546-e146710f97e6&parentOrigin=https://www.zanbil.ir], [/static/images/amp/third-party/footer-mobile.png], [/settings/logo]]                                                                         |703 |\n",
      "|[[/amp-helper-frame.html?appId=a624a1c1-0c93-466a-a546-e146710f97e6&parentOrigin=https://www.zanbil.ir], [/static/images/amp/third-party/footer-mobile.png], [/settings/logo], [/settings/logo]]                                                       |647 |\n",
      "|[[/basket/checkout]]                                                                                                                                                                                                                                   |1639|\n",
      "|[[/basket/checkout], [/basket/checkout?currentStep=3]]                                                                                                                                                                                                 |678 |\n",
      "|[[/basket/checkout], [/basket/checkout?currentStep=3], [/settings/logo]]                                                                                                                                                                               |644 |\n",
      "|[[/basket/checkout], [/settings/logo]]                                                                                                                                                                                                                 |1546|\n",
      "|[[/basket/checkout], [/settings/logo], [/basket/checkout?currentStep=3]]                                                                                                                                                                               |649 |\n",
      "|[[/basket/checkout], [/settings/logo], [/settings/logo]]                                                                                                                                                                                               |1320|\n",
      "|[[/basket/checkout], [/settings/logo], [/settings/logo], [/settings/logo]]                                                                                                                                                                             |1140|\n",
      "|[[/basket/checkout], [/settings/logo], [/settings/logo], [/settings/logo], [/settings/logo]]                                                                                                                                                           |974 |\n",
      "|[[/basket/checkout], [/settings/logo], [/settings/logo], [/settings/logo], [/settings/logo], [/settings/logo]]                                                                                                                                         |860 |\n",
      "|[[/basket/checkout], [/settings/logo], [/settings/logo], [/settings/logo], [/settings/logo], [/settings/logo], [/settings/logo]]                                                                                                                       |767 |\n",
      "|[[/basket/checkout], [/settings/logo], [/settings/logo], [/settings/logo], [/settings/logo], [/settings/logo], [/settings/logo], [/settings/logo]]                                                                                                     |708 |\n",
      "|[[/basket/checkout], [/settings/logo], [/settings/logo], [/settings/logo], [/settings/logo], [/settings/logo], [/settings/logo], [/settings/logo], [/settings/logo]]                                                                                   |663 |\n",
      "|[[/basket/checkout], [/site/alexaGooleAnalitic]]                                                                                                                                                                                                       |661 |\n",
      "|[[/basket/checkout?currentStep=3]]                                                                                                                                                                                                                     |684 |\n",
      "|[[/basket/checkout?currentStep=3], [/settings/logo]]                                                                                                                                                                                                   |649 |\n",
      "|[[/basket/view]]                                                                                                                                                                                                                                       |1617|\n",
      "|[[/basket/view], [/basket/checkout]]                                                                                                                                                                                                                   |989 |\n",
      "|[[/basket/view], [/basket/checkout], [/settings/logo]]                                                                                                                                                                                                 |966 |\n",
      "|[[/basket/view], [/basket/checkout], [/settings/logo], [/settings/logo]]                                                                                                                                                                               |820 |\n",
      "|[[/basket/view], [/basket/checkout], [/settings/logo], [/settings/logo], [/settings/logo]]                                                                                                                                                             |700 |\n",
      "|[[/basket/view], [/basket/view]]                                                                                                                                                                                                                       |720 |\n",
      "|[[/basket/view], [/basket/view], [/settings/logo]]                                                                                                                                                                                                     |687 |\n",
      "|[[/basket/view], [/settings/logo]]                                                                                                                                                                                                                     |1578|\n",
      "|[[/basket/view], [/settings/logo], [/basket/checkout]]                                                                                                                                                                                                 |920 |\n",
      "|[[/basket/view], [/settings/logo], [/basket/checkout], [/settings/logo]]                                                                                                                                                                               |903 |\n",
      "|[[/basket/view], [/settings/logo], [/basket/checkout], [/settings/logo], [/settings/logo]]                                                                                                                                                             |772 |\n",
      "|[[/basket/view], [/settings/logo], [/basket/checkout], [/settings/logo], [/settings/logo], [/settings/logo]]                                                                                                                                           |657 |\n",
      "|[[/basket/view], [/settings/logo], [/basket/view]]                                                                                                                                                                                                     |706 |\n",
      "|[[/basket/view], [/settings/logo], [/basket/view], [/settings/logo]]                                                                                                                                                                                   |674 |\n",
      "|[[/basket/view], [/settings/logo], [/settings/logo]]                                                                                                                                                                                                   |1387|\n",
      "|[[/basket/view], [/settings/logo], [/settings/logo], [/settings/logo]]                                                                                                                                                                                 |1166|\n",
      "|[[/basket/view], [/settings/logo], [/settings/logo], [/settings/logo], [/settings/logo]]                                                                                                                                                               |1004|\n",
      "|[[/basket/view], [/settings/logo], [/settings/logo], [/settings/logo], [/settings/logo], [/settings/logo]]                                                                                                                                             |871 |\n",
      "|[[/basket/view], [/settings/logo], [/settings/logo], [/settings/logo], [/settings/logo], [/settings/logo], [/settings/logo]]                                                                                                                           |754 |\n",
      "|[[/basket/view], [/settings/logo], [/settings/logo], [/settings/logo], [/settings/logo], [/settings/logo], [/settings/logo], [/settings/logo]]                                                                                                         |690 |\n",
      "|[[/favicon.ico]]                                                                                                                                                                                                                                       |1603|\n",
      "|[[/favicon.ico], [/basket/checkout]]                                                                                                                                                                                                                   |806 |\n",
      "|[[/favicon.ico], [/basket/checkout], [/settings/logo]]                                                                                                                                                                                                 |777 |\n",
      "|[[/favicon.ico], [/basket/checkout], [/settings/logo], [/settings/logo]]                                                                                                                                                                               |648 |\n",
      "|[[/favicon.ico], [/basket/view]]                                                                                                                                                                                                                       |1038|\n",
      "|[[/favicon.ico], [/basket/view], [/basket/checkout]]                                                                                                                                                                                                   |634 |\n",
      "|[[/favicon.ico], [/basket/view], [/settings/logo]]                                                                                                                                                                                                     |1013|\n",
      "|[[/favicon.ico], [/basket/view], [/settings/logo], [/settings/logo]]                                                                                                                                                                                   |890 |\n",
      "|[[/favicon.ico], [/basket/view], [/settings/logo], [/settings/logo], [/settings/logo]]                                                                                                                                                                 |742 |\n",
      "|[[/favicon.ico], [/basket/view], [/settings/logo], [/settings/logo], [/settings/logo], [/settings/logo]]                                                                                                                                               |638 |\n",
      "|[[/favicon.ico], [/settings/logo]]                                                                                                                                                                                                                     |1451|\n",
      "|[[/favicon.ico], [/settings/logo], [/basket/checkout]]                                                                                                                                                                                                 |762 |\n",
      "|[[/favicon.ico], [/settings/logo], [/basket/checkout], [/settings/logo]]                                                                                                                                                                               |739 |\n",
      "|[[/favicon.ico], [/settings/logo], [/basket/view]]                                                                                                                                                                                                     |827 |\n",
      "|[[/favicon.ico], [/settings/logo], [/basket/view], [/settings/logo]]                                                                                                                                                                                   |801 |\n",
      "|[[/favicon.ico], [/settings/logo], [/basket/view], [/settings/logo], [/settings/logo]]                                                                                                                                                                 |718 |\n",
      "|[[/favicon.ico], [/settings/logo], [/settings/logo]]                                                                                                                                                                                                   |1339|\n",
      "|[[/favicon.ico], [/settings/logo], [/settings/logo], [/basket/view]]                                                                                                                                                                                   |709 |\n",
      "|[[/favicon.ico], [/settings/logo], [/settings/logo], [/basket/view], [/settings/logo]]                                                                                                                                                                 |680 |\n",
      "|[[/favicon.ico], [/settings/logo], [/settings/logo], [/settings/logo]]                                                                                                                                                                                 |1206|\n",
      "|[[/favicon.ico], [/settings/logo], [/settings/logo], [/settings/logo], [/settings/logo]]                                                                                                                                                               |1073|\n",
      "|[[/favicon.ico], [/settings/logo], [/settings/logo], [/settings/logo], [/settings/logo], [/settings/logo]]                                                                                                                                             |983 |\n",
      "|[[/favicon.ico], [/settings/logo], [/settings/logo], [/settings/logo], [/settings/logo], [/settings/logo], [/settings/logo]]                                                                                                                           |890 |\n",
      "|[[/favicon.ico], [/settings/logo], [/settings/logo], [/settings/logo], [/settings/logo], [/settings/logo], [/settings/logo], [/settings/logo]]                                                                                                         |815 |\n",
      "|[[/favicon.ico], [/settings/logo], [/settings/logo], [/settings/logo], [/settings/logo], [/settings/logo], [/settings/logo], [/settings/logo], [/settings/logo]]                                                                                       |736 |\n",
      "|[[/favicon.ico], [/settings/logo], [/settings/logo], [/settings/logo], [/settings/logo], [/settings/logo], [/settings/logo], [/settings/logo], [/settings/logo], [/settings/logo]]                                                                     |676 |\n",
      "|[[/favicon.ico], [/static/images/amp/blog.png]]                                                                                                                                                                                                        |1090|\n",
      "|[[/favicon.ico], [/static/images/amp/blog.png], [/basket/view]]                                                                                                                                                                                        |747 |\n",
      "|[[/favicon.ico], [/static/images/amp/blog.png], [/basket/view], [/settings/logo]]                                                                                                                                                                      |727 |\n",
      "|[[/favicon.ico], [/static/images/amp/blog.png], [/settings/logo]]                                                                                                                                                                                      |1029|\n",
      "|[[/favicon.ico], [/static/images/amp/blog.png], [/settings/logo], [/settings/logo]]                                                                                                                                                                    |947 |\n",
      "|[[/favicon.ico], [/static/images/amp/blog.png], [/settings/logo], [/settings/logo], [/settings/logo]]                                                                                                                                                  |840 |\n",
      "|[[/favicon.ico], [/static/images/amp/blog.png], [/settings/logo], [/settings/logo], [/settings/logo], [/settings/logo]]                                                                                                                                |740 |\n",
      "|[[/favicon.ico], [/static/images/amp/blog.png], [/settings/logo], [/settings/logo], [/settings/logo], [/settings/logo], [/settings/logo]]                                                                                                              |677 |\n",
      "|[[/favicon.ico], [/static/images/amp/blog.png, /static/images/amp/third-party/footer-mobile.png]]                                                                                                                                                      |643 |\n",
      "|[[/favicon.ico], [/static/images/amp/instagram.png]]                                                                                                                                                                                                   |1096|\n",
      "|[[/favicon.ico], [/static/images/amp/instagram.png], [/basket/view]]                                                                                                                                                                                   |746 |\n",
      "|[[/favicon.ico], [/static/images/amp/instagram.png], [/basket/view], [/settings/logo]]                                                                                                                                                                 |726 |\n",
      "|[[/favicon.ico], [/static/images/amp/instagram.png], [/settings/logo]]                                                                                                                                                                                 |1031|\n",
      "|[[/favicon.ico], [/static/images/amp/instagram.png], [/settings/logo], [/settings/logo]]                                                                                                                                                               |950 |\n",
      "|[[/favicon.ico], [/static/images/amp/instagram.png], [/settings/logo], [/settings/logo], [/settings/logo]]                                                                                                                                             |840 |\n",
      "|[[/favicon.ico], [/static/images/amp/instagram.png], [/settings/logo], [/settings/logo], [/settings/logo], [/settings/logo]]                                                                                                                           |744 |\n",
      "|[[/favicon.ico], [/static/images/amp/instagram.png], [/settings/logo], [/settings/logo], [/settings/logo], [/settings/logo], [/settings/logo]]                                                                                                         |684 |\n",
      "|[[/favicon.ico], [/static/images/amp/instagram.png, /static/images/amp/blog.png]]                                                                                                                                                                      |975 |\n",
      "|[[/favicon.ico], [/static/images/amp/instagram.png, /static/images/amp/blog.png], [/basket/view]]                                                                                                                                                      |672 |\n",
      "|[[/favicon.ico], [/static/images/amp/instagram.png, /static/images/amp/blog.png], [/basket/view], [/settings/logo]]                                                                                                                                    |654 |\n",
      "|[[/favicon.ico], [/static/images/amp/instagram.png, /static/images/amp/blog.png], [/settings/logo]]                                                                                                                                                    |921 |\n",
      "|[[/favicon.ico], [/static/images/amp/instagram.png, /static/images/amp/blog.png], [/settings/logo], [/settings/logo]]                                                                                                                                  |848 |\n",
      "|[[/favicon.ico], [/static/images/amp/instagram.png, /static/images/amp/blog.png], [/settings/logo], [/settings/logo], [/settings/logo]]                                                                                                                |752 |\n",
      "|[[/favicon.ico], [/static/images/amp/instagram.png, /static/images/amp/blog.png], [/settings/logo], [/settings/logo], [/settings/logo], [/settings/logo]]                                                                                              |664 |\n",
      "|[[/favicon.ico], [/static/images/amp/instagram.png, /static/images/amp/telegram.png]]                                                                                                                                                                  |1007|\n",
      "|[[/favicon.ico], [/static/images/amp/instagram.png, /static/images/amp/telegram.png], [/basket/view]]                                                                                                                                                  |691 |\n",
      "|[[/favicon.ico], [/static/images/amp/instagram.png, /static/images/amp/telegram.png], [/basket/view], [/settings/logo]]                                                                                                                                |673 |\n",
      "|[[/favicon.ico], [/static/images/amp/instagram.png, /static/images/amp/telegram.png], [/settings/logo]]                                                                                                                                                |951 |\n",
      "|[[/favicon.ico], [/static/images/amp/instagram.png, /static/images/amp/telegram.png], [/settings/logo], [/settings/logo]]                                                                                                                              |875 |\n",
      "|[[/favicon.ico], [/static/images/amp/instagram.png, /static/images/amp/telegram.png], [/settings/logo], [/settings/logo], [/settings/logo]]                                                                                                            |778 |\n",
      "|[[/favicon.ico], [/static/images/amp/instagram.png, /static/images/amp/telegram.png], [/settings/logo], [/settings/logo], [/settings/logo], [/settings/logo]]                                                                                          |692 |\n",
      "|[[/favicon.ico], [/static/images/amp/instagram.png, /static/images/amp/telegram.png], [/settings/logo], [/settings/logo], [/settings/logo], [/settings/logo], [/settings/logo]]                                                                        |637 |\n",
      "|[[/favicon.ico], [/static/images/amp/instagram.png, /static/images/amp/telegram.png, /static/images/amp/blog.png]]                                                                                                                                     |970 |\n",
      "|[[/favicon.ico], [/static/images/amp/instagram.png, /static/images/amp/telegram.png, /static/images/amp/blog.png], [/basket/view]]                                                                                                                     |670 |\n",
      "|[[/favicon.ico], [/static/images/amp/instagram.png, /static/images/amp/telegram.png, /static/images/amp/blog.png], [/basket/view], [/settings/logo]]                                                                                                   |652 |\n",
      "|[[/favicon.ico], [/static/images/amp/instagram.png, /static/images/amp/telegram.png, /static/images/amp/blog.png], [/settings/logo]]                                                                                                                   |917 |\n",
      "|[[/favicon.ico], [/static/images/amp/instagram.png, /static/images/amp/telegram.png, /static/images/amp/blog.png], [/settings/logo], [/settings/logo]]                                                                                                 |844 |\n",
      "|[[/favicon.ico], [/static/images/amp/instagram.png, /static/images/amp/telegram.png, /static/images/amp/blog.png], [/settings/logo], [/settings/logo], [/settings/logo]]                                                                               |750 |\n",
      "|[[/favicon.ico], [/static/images/amp/instagram.png, /static/images/amp/telegram.png, /static/images/amp/blog.png], [/settings/logo], [/settings/logo], [/settings/logo], [/settings/logo]]                                                             |662 |\n",
      "|[[/favicon.ico], [/static/images/amp/telegram.png]]                                                                                                                                                                                                    |1089|\n",
      "|[[/favicon.ico], [/static/images/amp/telegram.png], [/basket/view]]                                                                                                                                                                                    |747 |\n",
      "|[[/favicon.ico], [/static/images/amp/telegram.png], [/basket/view], [/settings/logo]]                                                                                                                                                                  |727 |\n",
      "|[[/favicon.ico], [/static/images/amp/telegram.png], [/settings/logo]]                                                                                                                                                                                  |1032|\n",
      "|[[/favicon.ico], [/static/images/amp/telegram.png], [/settings/logo], [/settings/logo]]                                                                                                                                                                |948 |\n",
      "|[[/favicon.ico], [/static/images/amp/telegram.png], [/settings/logo], [/settings/logo], [/settings/logo]]                                                                                                                                              |842 |\n",
      "|[[/favicon.ico], [/static/images/amp/telegram.png], [/settings/logo], [/settings/logo], [/settings/logo], [/settings/logo]]                                                                                                                            |744 |\n",
      "|[[/favicon.ico], [/static/images/amp/telegram.png], [/settings/logo], [/settings/logo], [/settings/logo], [/settings/logo], [/settings/logo]]                                                                                                          |684 |\n",
      "|[[/favicon.ico], [/static/images/amp/telegram.png, /static/images/amp/blog.png]]                                                                                                                                                                       |1046|\n",
      "|[[/favicon.ico], [/static/images/amp/telegram.png, /static/images/amp/blog.png], [/basket/view]]                                                                                                                                                       |724 |\n",
      "|[[/favicon.ico], [/static/images/amp/telegram.png, /static/images/amp/blog.png], [/basket/view], [/settings/logo]]                                                                                                                                     |704 |\n",
      "|[[/favicon.ico], [/static/images/amp/telegram.png, /static/images/amp/blog.png], [/settings/logo]]                                                                                                                                                     |989 |\n",
      "|[[/favicon.ico], [/static/images/amp/telegram.png, /static/images/amp/blog.png], [/settings/logo], [/settings/logo]]                                                                                                                                   |909 |\n",
      "|[[/favicon.ico], [/static/images/amp/telegram.png, /static/images/amp/blog.png], [/settings/logo], [/settings/logo], [/settings/logo]]                                                                                                                 |806 |\n",
      "|[[/favicon.ico], [/static/images/amp/telegram.png, /static/images/amp/blog.png], [/settings/logo], [/settings/logo], [/settings/logo], [/settings/logo]]                                                                                               |709 |\n",
      "|[[/favicon.ico], [/static/images/amp/telegram.png, /static/images/amp/blog.png], [/settings/logo], [/settings/logo], [/settings/logo], [/settings/logo], [/settings/logo]]                                                                             |650 |\n",
      "|[[/favicon.ico], [/static/images/amp/third-party/footer-mobile.png]]                                                                                                                                                                                   |962 |\n",
      "|[[/favicon.ico], [/static/images/amp/third-party/footer-mobile.png], [/basket/view]]                                                                                                                                                                   |753 |\n",
      "|[[/favicon.ico], [/static/images/amp/third-party/footer-mobile.png], [/basket/view], [/settings/logo]]                                                                                                                                                 |733 |\n",
      "|[[/favicon.ico], [/static/images/amp/third-party/footer-mobile.png], [/basket/view], [/settings/logo], [/settings/logo]]                                                                                                                               |637 |\n",
      "|[[/favicon.ico], [/static/images/amp/third-party/footer-mobile.png], [/settings/logo]]                                                                                                                                                                 |914 |\n",
      "|[[/favicon.ico], [/static/images/amp/third-party/footer-mobile.png], [/settings/logo], [/settings/logo]]                                                                                                                                               |844 |\n",
      "|[[/favicon.ico], [/static/images/amp/third-party/footer-mobile.png], [/settings/logo], [/settings/logo], [/settings/logo]]                                                                                                                             |745 |\n",
      "|[[/favicon.ico], [/static/images/amp/third-party/footer-mobile.png], [/settings/logo], [/settings/logo], [/settings/logo], [/settings/logo]]                                                                                                           |652 |\n",
      "|[[/image/%7B%7BbasketItem.id%7D%7D?type=productModel&wh=50x50]]                                                                                                                                                                                        |971 |\n",
      "|[[/image/%7B%7BbasketItem.id%7D%7D?type=productModel&wh=50x50], [/images/raty/star-on.png]]                                                                                                                                                            |789 |\n",
      "|[[/image/%7B%7BbasketItem.id%7D%7D?type=productModel&wh=50x50], [/images/raty/star-on.png], [/settings/logo]]                                                                                                                                          |719 |\n",
      "|[[/image/%7B%7BbasketItem.id%7D%7D?type=productModel&wh=50x50], [/images/raty/star-on.png], [/settings/logo], [/site/alexaGooleAnalitic]]                                                                                                              |693 |\n",
      "|[[/image/%7B%7BbasketItem.id%7D%7D?type=productModel&wh=50x50], [/images/raty/star-on.png], [/site/alexaGooleAnalitic]]                                                                                                                                |766 |\n",
      "|[[/image/%7B%7BbasketItem.id%7D%7D?type=productModel&wh=50x50], [/images/raty/star-on.png], [/site/alexaGooleAnalitic], [/settings/logo]]                                                                                                              |696 |\n",
      "|[[/image/%7B%7BbasketItem.id%7D%7D?type=productModel&wh=50x50], [/images/raty/star-on.png], [/site/alexaGooleAnalitic], [/settings/logo], [/site/alexaGooleAnalitic]]                                                                                  |683 |\n",
      "|[[/image/%7B%7BbasketItem.id%7D%7D?type=productModel&wh=50x50], [/images/raty/star-on.png], [/site/alexaGooleAnalitic], [/site/alexaGooleAnalitic]]                                                                                                    |688 |\n",
      "|[[/image/%7B%7BbasketItem.id%7D%7D?type=productModel&wh=50x50], [/settings/logo]]                                                                                                                                                                      |946 |\n",
      "|[[/image/%7B%7BbasketItem.id%7D%7D?type=productModel&wh=50x50], [/settings/logo], [/images/raty/star-on.png]]                                                                                                                                          |669 |\n",
      "|[[/image/%7B%7BbasketItem.id%7D%7D?type=productModel&wh=50x50], [/settings/logo], [/images/raty/star-on.png], [/site/alexaGooleAnalitic]]                                                                                                              |648 |\n",
      "|[[/image/%7B%7BbasketItem.id%7D%7D?type=productModel&wh=50x50], [/settings/logo], [/settings/logo]]                                                                                                                                                    |870 |\n",
      "|[[/image/%7B%7BbasketItem.id%7D%7D?type=productModel&wh=50x50], [/settings/logo], [/settings/logo], [/settings/logo]]                                                                                                                                  |788 |\n",
      "|[[/image/%7B%7BbasketItem.id%7D%7D?type=productModel&wh=50x50], [/settings/logo], [/settings/logo], [/settings/logo], [/settings/logo]]                                                                                                                |716 |\n",
      "|[[/image/%7B%7BbasketItem.id%7D%7D?type=productModel&wh=50x50], [/settings/logo], [/settings/logo], [/settings/logo], [/settings/logo], [/settings/logo]]                                                                                              |656 |\n",
      "|[[/image/%7B%7BbasketItem.id%7D%7D?type=productModel&wh=50x50], [/settings/logo], [/settings/logo], [/settings/logo], [/settings/logo], [/site/alexaGooleAnalitic]]                                                                                    |680 |\n",
      "|[[/image/%7B%7BbasketItem.id%7D%7D?type=productModel&wh=50x50], [/settings/logo], [/settings/logo], [/settings/logo], [/site/alexaGooleAnalitic]]                                                                                                      |749 |\n",
      "|[[/image/%7B%7BbasketItem.id%7D%7D?type=productModel&wh=50x50], [/settings/logo], [/settings/logo], [/settings/logo], [/site/alexaGooleAnalitic], [/settings/logo]]                                                                                    |679 |\n",
      "|[[/image/%7B%7BbasketItem.id%7D%7D?type=productModel&wh=50x50], [/settings/logo], [/settings/logo], [/settings/logo], [/site/alexaGooleAnalitic], [/settings/logo], [/site/alexaGooleAnalitic]]                                                        |671 |\n",
      "|[[/image/%7B%7BbasketItem.id%7D%7D?type=productModel&wh=50x50], [/settings/logo], [/settings/logo], [/settings/logo], [/site/alexaGooleAnalitic], [/site/alexaGooleAnalitic]]                                                                          |676 |\n",
      "|[[/image/%7B%7BbasketItem.id%7D%7D?type=productModel&wh=50x50], [/settings/logo], [/settings/logo], [/site/alexaGooleAnalitic]]                                                                                                                        |826 |\n",
      "|[[/image/%7B%7BbasketItem.id%7D%7D?type=productModel&wh=50x50], [/settings/logo], [/settings/logo], [/site/alexaGooleAnalitic], [/settings/logo]]                                                                                                      |748 |\n",
      "|[[/image/%7B%7BbasketItem.id%7D%7D?type=productModel&wh=50x50], [/settings/logo], [/settings/logo], [/site/alexaGooleAnalitic], [/settings/logo], [/settings/logo]]                                                                                    |680 |\n",
      "|[[/image/%7B%7BbasketItem.id%7D%7D?type=productModel&wh=50x50], [/settings/logo], [/settings/logo], [/site/alexaGooleAnalitic], [/settings/logo], [/settings/logo], [/site/alexaGooleAnalitic]]                                                        |669 |\n",
      "|[[/image/%7B%7BbasketItem.id%7D%7D?type=productModel&wh=50x50], [/settings/logo], [/settings/logo], [/site/alexaGooleAnalitic], [/settings/logo], [/site/alexaGooleAnalitic]]                                                                          |737 |\n",
      "|[[/image/%7B%7BbasketItem.id%7D%7D?type=productModel&wh=50x50], [/settings/logo], [/settings/logo], [/site/alexaGooleAnalitic], [/settings/logo], [/site/alexaGooleAnalitic], [/settings/logo]]                                                        |671 |\n",
      "|[[/image/%7B%7BbasketItem.id%7D%7D?type=productModel&wh=50x50], [/settings/logo], [/settings/logo], [/site/alexaGooleAnalitic], [/settings/logo], [/site/alexaGooleAnalitic], [/settings/logo], [/site/alexaGooleAnalitic]]                            |664 |\n",
      "|[[/image/%7B%7BbasketItem.id%7D%7D?type=productModel&wh=50x50], [/settings/logo], [/settings/logo], [/site/alexaGooleAnalitic], [/settings/logo], [/site/alexaGooleAnalitic], [/site/alexaGooleAnalitic]]                                              |668 |\n",
      "|[[/image/%7B%7BbasketItem.id%7D%7D?type=productModel&wh=50x50], [/settings/logo], [/settings/logo], [/site/alexaGooleAnalitic], [/site/alexaGooleAnalitic]]                                                                                            |745 |\n",
      "|[[/image/%7B%7BbasketItem.id%7D%7D?type=productModel&wh=50x50], [/settings/logo], [/settings/logo], [/site/alexaGooleAnalitic], [/site/alexaGooleAnalitic], [/settings/logo]]                                                                          |674 |\n",
      "|[[/image/%7B%7BbasketItem.id%7D%7D?type=productModel&wh=50x50], [/settings/logo], [/settings/logo], [/site/alexaGooleAnalitic], [/site/alexaGooleAnalitic], [/settings/logo], [/site/alexaGooleAnalitic]]                                              |668 |\n",
      "|[[/image/%7B%7BbasketItem.id%7D%7D?type=productModel&wh=50x50], [/settings/logo], [/settings/logo], [/site/alexaGooleAnalitic], [/site/alexaGooleAnalitic], [/site/alexaGooleAnalitic]]                                                                |673 |\n",
      "|[[/image/%7B%7BbasketItem.id%7D%7D?type=productModel&wh=50x50], [/settings/logo], [/site/alexaGooleAnalitic]]                                                                                                                                          |920 |\n",
      "|[[/image/%7B%7BbasketItem.id%7D%7D?type=productModel&wh=50x50], [/settings/logo], [/site/alexaGooleAnalitic], [/settings/logo]]                                                                                                                        |842 |\n",
      "|[[/image/%7B%7BbasketItem.id%7D%7D?type=productModel&wh=50x50], [/settings/logo], [/site/alexaGooleAnalitic], [/settings/logo], [/settings/logo]]                                                                                                      |764 |\n",
      "|[[/image/%7B%7BbasketItem.id%7D%7D?type=productModel&wh=50x50], [/settings/logo], [/site/alexaGooleAnalitic], [/settings/logo], [/settings/logo], [/settings/logo]]                                                                                    |695 |\n",
      "|[[/image/%7B%7BbasketItem.id%7D%7D?type=productModel&wh=50x50], [/settings/logo], [/site/alexaGooleAnalitic], [/settings/logo], [/settings/logo], [/settings/logo], [/settings/logo]]                                                                  |637 |\n",
      "|[[/image/%7B%7BbasketItem.id%7D%7D?type=productModel&wh=50x50], [/settings/logo], [/site/alexaGooleAnalitic], [/settings/logo], [/settings/logo], [/settings/logo], [/site/alexaGooleAnalitic]]                                                        |670 |\n",
      "|[[/image/%7B%7BbasketItem.id%7D%7D?type=productModel&wh=50x50], [/settings/logo], [/site/alexaGooleAnalitic], [/settings/logo], [/settings/logo], [/site/alexaGooleAnalitic]]                                                                          |735 |\n",
      "|[[/image/%7B%7BbasketItem.id%7D%7D?type=productModel&wh=50x50], [/settings/logo], [/site/alexaGooleAnalitic], [/settings/logo], [/settings/logo], [/site/alexaGooleAnalitic], [/settings/logo]]                                                        |670 |\n",
      "|[[/image/%7B%7BbasketItem.id%7D%7D?type=productModel&wh=50x50], [/settings/logo], [/site/alexaGooleAnalitic], [/settings/logo], [/settings/logo], [/site/alexaGooleAnalitic], [/settings/logo], [/site/alexaGooleAnalitic]]                            |664 |\n",
      "|[[/image/%7B%7BbasketItem.id%7D%7D?type=productModel&wh=50x50], [/settings/logo], [/site/alexaGooleAnalitic], [/settings/logo], [/settings/logo], [/site/alexaGooleAnalitic], [/site/alexaGooleAnalitic]]                                              |668 |\n",
      "|[[/image/%7B%7BbasketItem.id%7D%7D?type=productModel&wh=50x50], [/settings/logo], [/site/alexaGooleAnalitic], [/settings/logo], [/site/alexaGooleAnalitic]]                                                                                            |810 |\n",
      "|[[/image/%7B%7BbasketItem.id%7D%7D?type=productModel&wh=50x50], [/settings/logo], [/site/alexaGooleAnalitic], [/settings/logo], [/site/alexaGooleAnalitic], [/settings/logo]]                                                                          |740 |\n",
      "|[[/image/%7B%7BbasketItem.id%7D%7D?type=productModel&wh=50x50], [/settings/logo], [/site/alexaGooleAnalitic], [/settings/logo], [/site/alexaGooleAnalitic], [/settings/logo], [/settings/logo]]                                                        |672 |\n",
      "|[[/image/%7B%7BbasketItem.id%7D%7D?type=productModel&wh=50x50], [/settings/logo], [/site/alexaGooleAnalitic], [/settings/logo], [/site/alexaGooleAnalitic], [/settings/logo], [/settings/logo], [/site/alexaGooleAnalitic]]                            |661 |\n",
      "|[[/image/%7B%7BbasketItem.id%7D%7D?type=productModel&wh=50x50], [/settings/logo], [/site/alexaGooleAnalitic], [/settings/logo], [/site/alexaGooleAnalitic], [/settings/logo], [/site/alexaGooleAnalitic]]                                              |729 |\n",
      "|[[/image/%7B%7BbasketItem.id%7D%7D?type=productModel&wh=50x50], [/settings/logo], [/site/alexaGooleAnalitic], [/settings/logo], [/site/alexaGooleAnalitic], [/settings/logo], [/site/alexaGooleAnalitic], [/settings/logo]]                            |662 |\n",
      "|[[/image/%7B%7BbasketItem.id%7D%7D?type=productModel&wh=50x50], [/settings/logo], [/site/alexaGooleAnalitic], [/settings/logo], [/site/alexaGooleAnalitic], [/settings/logo], [/site/alexaGooleAnalitic], [/settings/logo], [/site/alexaGooleAnalitic]]|656 |\n",
      "|[[/image/%7B%7BbasketItem.id%7D%7D?type=productModel&wh=50x50], [/settings/logo], [/site/alexaGooleAnalitic], [/settings/logo], [/site/alexaGooleAnalitic], [/settings/logo], [/site/alexaGooleAnalitic], [/site/alexaGooleAnalitic]]                  |659 |\n",
      "|[[/image/%7B%7BbasketItem.id%7D%7D?type=productModel&wh=50x50], [/settings/logo], [/site/alexaGooleAnalitic], [/settings/logo], [/site/alexaGooleAnalitic], [/site/alexaGooleAnalitic]]                                                                |735 |\n",
      "|[[/image/%7B%7BbasketItem.id%7D%7D?type=productModel&wh=50x50], [/settings/logo], [/site/alexaGooleAnalitic], [/settings/logo], [/site/alexaGooleAnalitic], [/site/alexaGooleAnalitic], [/settings/logo]]                                              |664 |\n",
      "|[[/image/%7B%7BbasketItem.id%7D%7D?type=productModel&wh=50x50], [/settings/logo], [/site/alexaGooleAnalitic], [/settings/logo], [/site/alexaGooleAnalitic], [/site/alexaGooleAnalitic], [/settings/logo], [/site/alexaGooleAnalitic]]                  |659 |\n",
      "|[[/image/%7B%7BbasketItem.id%7D%7D?type=productModel&wh=50x50], [/settings/logo], [/site/alexaGooleAnalitic], [/settings/logo], [/site/alexaGooleAnalitic], [/site/alexaGooleAnalitic], [/site/alexaGooleAnalitic]]                                    |663 |\n",
      "|[[/image/%7B%7BbasketItem.id%7D%7D?type=productModel&wh=50x50], [/settings/logo], [/site/alexaGooleAnalitic], [/site/alexaGooleAnalitic]]                                                                                                              |819 |\n",
      "|[[/image/%7B%7BbasketItem.id%7D%7D?type=productModel&wh=50x50], [/settings/logo], [/site/alexaGooleAnalitic], [/site/alexaGooleAnalitic], [/settings/logo]]                                                                                            |747 |\n",
      "|[[/image/%7B%7BbasketItem.id%7D%7D?type=productModel&wh=50x50], [/settings/logo], [/site/alexaGooleAnalitic], [/site/alexaGooleAnalitic], [/settings/logo], [/settings/logo]]                                                                          |675 |\n",
      "|[[/image/%7B%7BbasketItem.id%7D%7D?type=productModel&wh=50x50], [/settings/logo], [/site/alexaGooleAnalitic], [/site/alexaGooleAnalitic], [/settings/logo], [/settings/logo], [/site/alexaGooleAnalitic]]                                              |664 |\n",
      "|[[/image/%7B%7BbasketItem.id%7D%7D?type=productModel&wh=50x50], [/settings/logo], [/site/alexaGooleAnalitic], [/site/alexaGooleAnalitic], [/settings/logo], [/site/alexaGooleAnalitic]]                                                                |734 |\n",
      "|[[/image/%7B%7BbasketItem.id%7D%7D?type=productModel&wh=50x50], [/settings/logo], [/site/alexaGooleAnalitic], [/site/alexaGooleAnalitic], [/settings/logo], [/site/alexaGooleAnalitic], [/settings/logo]]                                              |663 |\n",
      "|[[/image/%7B%7BbasketItem.id%7D%7D?type=productModel&wh=50x50], [/settings/logo], [/site/alexaGooleAnalitic], [/site/alexaGooleAnalitic], [/settings/logo], [/site/alexaGooleAnalitic], [/settings/logo], [/site/alexaGooleAnalitic]]                  |659 |\n",
      "|[[/image/%7B%7BbasketItem.id%7D%7D?type=productModel&wh=50x50], [/settings/logo], [/site/alexaGooleAnalitic], [/site/alexaGooleAnalitic], [/settings/logo], [/site/alexaGooleAnalitic], [/site/alexaGooleAnalitic]]                                    |663 |\n",
      "|[[/image/%7B%7BbasketItem.id%7D%7D?type=productModel&wh=50x50], [/settings/logo], [/site/alexaGooleAnalitic], [/site/alexaGooleAnalitic], [/site/alexaGooleAnalitic]]                                                                                  |739 |\n",
      "|[[/image/%7B%7BbasketItem.id%7D%7D?type=productModel&wh=50x50], [/settings/logo], [/site/alexaGooleAnalitic], [/site/alexaGooleAnalitic], [/site/alexaGooleAnalitic], [/settings/logo]]                                                                |665 |\n",
      "|[[/image/%7B%7BbasketItem.id%7D%7D?type=productModel&wh=50x50], [/settings/logo], [/site/alexaGooleAnalitic], [/site/alexaGooleAnalitic], [/site/alexaGooleAnalitic], [/settings/logo], [/site/alexaGooleAnalitic]]                                    |661 |\n",
      "|[[/image/%7B%7BbasketItem.id%7D%7D?type=productModel&wh=50x50], [/settings/logo], [/site/alexaGooleAnalitic], [/site/alexaGooleAnalitic], [/site/alexaGooleAnalitic], [/site/alexaGooleAnalitic]]                                                      |666 |\n",
      "|[[/image/%7B%7BbasketItem.id%7D%7D?type=productModel&wh=50x50], [/settings/logo], [/static/images/Icon-Buypage/addToZanbil-box-hover.png]]                                                                                                             |643 |\n",
      "|[[/image/%7B%7BbasketItem.id%7D%7D?type=productModel&wh=50x50], [/settings/logo], [/static/images/amp/blog.png]]                                                                                                                                       |653 |\n",
      "|[[/image/%7B%7BbasketItem.id%7D%7D?type=productModel&wh=50x50], [/settings/logo], [/static/images/amp/instagram.png]]                                                                                                                                  |652 |\n",
      "|[[/image/%7B%7BbasketItem.id%7D%7D?type=productModel&wh=50x50], [/settings/logo], [/static/images/amp/telegram.png]]                                                                                                                                   |652 |\n",
      "|[[/image/%7B%7BbasketItem.id%7D%7D?type=productModel&wh=50x50], [/settings/logo], [/static/images/favicon.ico]]                                                                                                                                        |716 |\n",
      "|[[/image/%7B%7BbasketItem.id%7D%7D?type=productModel&wh=50x50], [/settings/logo], [/static/images/favicon.ico], [/settings/logo]]                                                                                                                      |652 |\n",
      "|[[/image/%7B%7BbasketItem.id%7D%7D?type=productModel&wh=50x50], [/settings/logo], [/static/images/favicon.ico], [/site/alexaGooleAnalitic]]                                                                                                            |662 |\n",
      "|[[/image/%7B%7BbasketItem.id%7D%7D?type=productModel&wh=50x50], [/settings/logo], [/static/images/next.png]]                                                                                                                                           |661 |\n",
      "|[[/image/%7B%7BbasketItem.id%7D%7D?type=productModel&wh=50x50], [/settings/logo], [/static/images/next.png], [/site/alexaGooleAnalitic]]                                                                                                               |634 |\n",
      "|[[/image/%7B%7BbasketItem.id%7D%7D?type=productModel&wh=50x50], [/settings/logo], [/static/images/prev.png]]                                                                                                                                           |657 |\n",
      "|[[/image/%7B%7BbasketItem.id%7D%7D?type=productModel&wh=50x50], [/settings/logo], [/static/images/raty/star-on.png]]                                                                                                                                   |695 |\n",
      "|[[/image/%7B%7BbasketItem.id%7D%7D?type=productModel&wh=50x50], [/settings/logo], [/static/images/raty/star-on.png], [/site/alexaGooleAnalitic]]                                                                                                       |667 |\n",
      "|[[/image/%7B%7BbasketItem.id%7D%7D?type=productModel&wh=50x50], [/settings/logo], [/static/images/third-party/footer.png]]                                                                                                                             |665 |\n",
      "|[[/image/%7B%7BbasketItem.id%7D%7D?type=productModel&wh=50x50], [/site/alexaGooleAnalitic]]                                                                                                                                                            |959 |\n",
      "|[[/image/%7B%7BbasketItem.id%7D%7D?type=productModel&wh=50x50], [/site/alexaGooleAnalitic], [/settings/logo]]                                                                                                                                          |881 |\n",
      "|[[/image/%7B%7BbasketItem.id%7D%7D?type=productModel&wh=50x50], [/site/alexaGooleAnalitic], [/settings/logo], [/settings/logo]]                                                                                                                        |802 |\n",
      "+-------------------------------------------------------------------------------------------------------------------------------------------------------------------------------------------------------------------------------------------------------+----+\n",
      "only showing top 250 rows\n",
      "\n"
     ]
    }
   ],
   "source": [
    "prefixSpan = PrefixSpan()\n",
    "prefixSpan.getMaxLocalProjDBSize()\n",
    "prefixSpan.setSequenceCol('SEQUENCE')\n",
    "prefixSpan.getSequenceCol()\n",
    "\n",
    "prefixSpan.setMinSupport(0.2)\n",
    "\n",
    "prefixSpan.setMaxPatternLength(50)\n",
    "\n",
    "prefixSpan.findFrequentSequentialPatterns(DF3).sort(\"SEQUENCE\").show(250,truncate=False)"
   ]
  },
  {
   "cell_type": "markdown",
   "metadata": {},
   "source": [
    "## <font color=red>You summary and clusions here </font>"
   ]
  },
  {
   "cell_type": "markdown",
   "metadata": {
    "jp-MarkdownHeadingCollapsed": true,
    "tags": []
   },
   "source": [
    "In this data mining report, I analyzed a substantial dataset containing approximately 10 million rows. Due to the project's limitations, we worked on a single machine, which prevented leveraging PySpark's distributed processing capabilities. As a result, the processing time was considerably longer than anticipated.\n",
    "\n",
    "Findings: <br>\n",
    "I experimented with various MinSupport and MaxPatternLength parameters and identified some interesting patterns in the web log data. For instance, customers often review their carts before proceeding to checkout, indicating a preference for reviewing items rather than using the \"buy now\" option.\n",
    "\n",
    "Additionally, many logs show that URLs containing image files (.png) preceded adding an item to the basket. This suggests that customers are influenced by product images when deciding to make a purchase. Therefore, optimizing product images could have a significant impact on sales, as most \"adding to basket\" actions occurred after viewing these images.\n",
    "\n",
    "I also observed that some checkouts followed browsing on Instagram or Telegram, indicating that social media marketing could be a promising avenue to explore based on this dataset.\n",
    "\n",
    "However, it is worth noting that web logs may not be the most suitable data source for identifying purchase patterns or sequential patterns. The dataset contained a substantial amount of noise, including irrelevant information such as JavaScript and CSS logs. To improve future data mining efforts, I recommend designing the website to log specific user actions related to adding items to the basket. This would enable more accurate analysis and, in turn, more effective decision-making based on the mined data."
   ]
  },
  {
   "cell_type": "markdown",
   "metadata": {},
   "source": [
    "# DELIVER (individually)\n",
    "\n",
    "\n",
    "\n",
    "Submit on canvas:\n",
    "\n",
    "* This notebook with all results shown\n",
    "* If you discussed with classmates and get inspirations during the project write down his/her names in next section. No points deductions but you have to be honest.\n",
    "\n"
   ]
  },
  {
   "cell_type": "markdown",
   "metadata": {},
   "source": [
    "<font size=\"+2\" color=\"#003300\">I hereby declare that, except for the code provided by the course instructors, all of my code, report, and figures were produced by myself.</font>\n",
    "<font size=\"+2\" color=\"Black\">Kenny Zhang"
   ]
  }
 ],
 "metadata": {
  "kernelspec": {
   "display_name": "Python 3 (ipykernel)",
   "language": "python",
   "name": "python3"
  },
  "language_info": {
   "codemirror_mode": {
    "name": "ipython",
    "version": 3
   },
   "file_extension": ".py",
   "mimetype": "text/x-python",
   "name": "python",
   "nbconvert_exporter": "python",
   "pygments_lexer": "ipython3",
   "version": "3.10.10"
  }
 },
 "nbformat": 4,
 "nbformat_minor": 4
}
